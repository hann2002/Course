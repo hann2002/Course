{
 "cells": [
  {
   "cell_type": "markdown",
   "id": "15648f27",
   "metadata": {
    "id": "k_UqVZtpSz5Z",
    "papermill": {
     "duration": 0.009874,
     "end_time": "2023-06-23T04:31:11.008355",
     "exception": false,
     "start_time": "2023-06-23T04:31:10.998481",
     "status": "completed"
    },
    "tags": []
   },
   "source": [
    "# Homework 13 - Network Compression\n",
    "\n",
    "Author: Chen-Wei Ke (b08501098@ntu.edu.tw), modified from ML2022-HW13 (Liang-Hsuan Tseng)\n",
    "\n",
    "If you have any questions, feel free to ask: mlta-2023-spring@googlegroups.com\n",
    "\n",
    "[**Link to HW13 Slides**](https://docs.google.com/presentation/d/1QAVMbnabmmMNvmugPlHMg_GVKaYrKa6hoTSFeJl9OCs/edit?usp=sharing)"
   ]
  },
  {
   "cell_type": "markdown",
   "id": "4d0d55ce",
   "metadata": {
    "id": "kYKQ2_nzSz5c",
    "papermill": {
     "duration": 0.007353,
     "end_time": "2023-06-23T04:31:11.023395",
     "exception": false,
     "start_time": "2023-06-23T04:31:11.016042",
     "status": "completed"
    },
    "tags": []
   },
   "source": [
    "## Outline\n",
    "\n",
    "* [Packages](#Packages) - intall some required packages.\n",
    "* [Dataset](#Dataset) - something you need to know about the dataset.\n",
    "* [Configs](#Configs) - the configs of the experiments, you can change some hyperparameters here.\n",
    "* [Architecture_Design](#Architecture_Design) - depthwise and pointwise convolution examples and some useful links.\n",
    "* [Knowledge_Distillation](#Knowledge_Distillation) - KL divergence loss for knowledge distillation and some useful links.\n",
    "* [Training](#Training) - training loop implementation modified from HW3.\n",
    "* [Inference](#Inference) - create submission.csv by using the student_best.ckpt from the previous experiment.\n",
    "\n"
   ]
  },
  {
   "cell_type": "markdown",
   "id": "564a4332",
   "metadata": {
    "id": "-nyWIJEoSz5d",
    "papermill": {
     "duration": 0.007269,
     "end_time": "2023-06-23T04:31:11.038096",
     "exception": false,
     "start_time": "2023-06-23T04:31:11.030827",
     "status": "completed"
    },
    "tags": []
   },
   "source": [
    "### Packages\n",
    "First, we need to import some useful packages. If the torchsummary package are not intalled, please install it via `pip install torchsummary`"
   ]
  },
  {
   "cell_type": "code",
   "execution_count": 1,
   "id": "6a2240a5",
   "metadata": {
    "execution": {
     "iopub.execute_input": "2023-06-23T04:31:11.055191Z",
     "iopub.status.busy": "2023-06-23T04:31:11.054450Z",
     "iopub.status.idle": "2023-06-23T04:31:23.150644Z",
     "shell.execute_reply": "2023-06-23T04:31:23.149456Z"
    },
    "papermill": {
     "duration": 12.107782,
     "end_time": "2023-06-23T04:31:23.153366",
     "exception": false,
     "start_time": "2023-06-23T04:31:11.045584",
     "status": "completed"
    },
    "tags": []
   },
   "outputs": [
    {
     "name": "stdout",
     "output_type": "stream",
     "text": [
      "Collecting torchsummary\r\n",
      "  Downloading torchsummary-1.5.1-py3-none-any.whl (2.8 kB)\r\n",
      "Installing collected packages: torchsummary\r\n",
      "Successfully installed torchsummary-1.5.1\r\n",
      "\u001b[33mWARNING: Running pip as the 'root' user can result in broken permissions and conflicting behaviour with the system package manager. It is recommended to use a virtual environment instead: https://pip.pypa.io/warnings/venv\u001b[0m\u001b[33m\r\n",
      "\u001b[0m"
     ]
    }
   ],
   "source": [
    "!pip install torchsummary"
   ]
  },
  {
   "cell_type": "code",
   "execution_count": 2,
   "id": "a1c8a6cd",
   "metadata": {
    "execution": {
     "iopub.execute_input": "2023-06-23T04:31:23.177609Z",
     "iopub.status.busy": "2023-06-23T04:31:23.177293Z",
     "iopub.status.idle": "2023-06-23T04:31:26.838438Z",
     "shell.execute_reply": "2023-06-23T04:31:26.837480Z"
    },
    "id": "vj5hoKkNSz5e",
    "papermill": {
     "duration": 3.672827,
     "end_time": "2023-06-23T04:31:26.840902",
     "exception": false,
     "start_time": "2023-06-23T04:31:23.168075",
     "status": "completed"
    },
    "tags": []
   },
   "outputs": [],
   "source": [
    "# 參考網站：https://github.com/aqweteddy/NTU-MachineLearning-2022/tree/main/hw13\n",
    "# Import some useful packages for this homework\n",
    "import numpy as np\n",
    "import pandas as pd\n",
    "import torch\n",
    "import os\n",
    "import torch.nn as nn\n",
    "import torch.nn.functional as F\n",
    "import torchvision.transforms as transforms\n",
    "from PIL import Image\n",
    "from torch.utils.data import ConcatDataset, DataLoader, Subset, Dataset # \"ConcatDataset\" and \"Subset\" are possibly useful\n",
    "from torchvision.datasets import DatasetFolder, VisionDataset\n",
    "from torchsummary import summary\n",
    "from tqdm.auto import tqdm\n",
    "import random\n",
    "\n",
    "# !nvidia-smi # list your current GPU"
   ]
  },
  {
   "cell_type": "markdown",
   "id": "061d502d",
   "metadata": {
    "id": "LLkfmF7WSz5f",
    "papermill": {
     "duration": 0.007702,
     "end_time": "2023-06-23T04:31:26.856755",
     "exception": false,
     "start_time": "2023-06-23T04:31:26.849053",
     "status": "completed"
    },
    "tags": []
   },
   "source": [
    "### Configs\n",
    "In this part, you can specify some variables and hyperparameters as your configs."
   ]
  },
  {
   "cell_type": "code",
   "execution_count": 3,
   "id": "136281cd",
   "metadata": {
    "execution": {
     "iopub.execute_input": "2023-06-23T04:31:26.874547Z",
     "iopub.status.busy": "2023-06-23T04:31:26.873363Z",
     "iopub.status.idle": "2023-06-23T04:31:26.879084Z",
     "shell.execute_reply": "2023-06-23T04:31:26.878219Z"
    },
    "id": "OtmYVkobSz5f",
    "papermill": {
     "duration": 0.016511,
     "end_time": "2023-06-23T04:31:26.881019",
     "exception": false,
     "start_time": "2023-06-23T04:31:26.864508",
     "status": "completed"
    },
    "tags": []
   },
   "outputs": [],
   "source": [
    "cfg = {\n",
    "    'dataset_root': '/kaggle/input/ml2023spring-hw13/Food-11',\n",
    "    'save_dir': '/kaggle/working/outputs',\n",
    "    'exp_name': \"rkd_mobilenet_randugmentation_mixup\",\n",
    "    'batch_size': 128,\n",
    "    'lr': 3e-3,\n",
    "    'seed': 20220013,\n",
    "    'loss_fn_type': 'RKD', # simple baseline: CE, medium baseline: KD. See the Knowledge_Distillation part for more information.\n",
    "    'weight_decay': 1e-5,\n",
    "    'grad_norm_max': 10,\n",
    "    'n_epochs': 1, # train more steps to pass the medium baseline.\n",
    "    'patience': 100,\n",
    "    'augmentation': 'rand', # or rand,\n",
    "    \"mixup_prob\": 0.5\n",
    "}\n",
    "# start_epoch = 0"
   ]
  },
  {
   "cell_type": "code",
   "execution_count": 4,
   "id": "e200390f",
   "metadata": {
    "execution": {
     "iopub.execute_input": "2023-06-23T04:31:26.898112Z",
     "iopub.status.busy": "2023-06-23T04:31:26.897304Z",
     "iopub.status.idle": "2023-06-23T04:31:26.963569Z",
     "shell.execute_reply": "2023-06-23T04:31:26.962575Z"
    },
    "id": "-hQgM5oQSz5g",
    "outputId": "d439f4ea-19a6-4776-eeae-a31154eb6529",
    "papermill": {
     "duration": 0.076877,
     "end_time": "2023-06-23T04:31:26.965607",
     "exception": false,
     "start_time": "2023-06-23T04:31:26.888730",
     "status": "completed"
    },
    "tags": []
   },
   "outputs": [
    {
     "name": "stdout",
     "output_type": "stream",
     "text": [
      "{'dataset_root': '/kaggle/input/ml2023spring-hw13/Food-11', 'save_dir': '/kaggle/working/outputs', 'exp_name': 'rkd_mobilenet_randugmentation_mixup', 'batch_size': 128, 'lr': 0.003, 'seed': 20220013, 'loss_fn_type': 'RKD', 'weight_decay': 1e-05, 'grad_norm_max': 10, 'n_epochs': 1, 'patience': 100, 'augmentation': 'rand', 'mixup_prob': 0.5}\n"
     ]
    }
   ],
   "source": [
    "myseed = cfg['seed']  # set a random seed for reproducibility\n",
    "torch.backends.cudnn.deterministic = True\n",
    "torch.backends.cudnn.benchmark = False\n",
    "np.random.seed(myseed)\n",
    "torch.manual_seed(myseed)\n",
    "random.seed(myseed)\n",
    "if torch.cuda.is_available():\n",
    "    torch.cuda.manual_seed_all(myseed)\n",
    "\n",
    "save_path = os.path.join(cfg['save_dir'], cfg['exp_name']) # create saving directory\n",
    "os.makedirs(save_path, exist_ok=True)\n",
    "\n",
    "# define simple logging functionality\n",
    "log_fw = open(f\"{save_path}/log.txt\", 'w') # open log file to save log outputs\n",
    "def log(text):     # define a logging function to trace the training process\n",
    "    print(text)\n",
    "    log_fw.write(str(text)+'\\n')\n",
    "    log_fw.flush()\n",
    "\n",
    "log(cfg)  # log your configs to the log file"
   ]
  },
  {
   "cell_type": "markdown",
   "id": "66718e5f",
   "metadata": {
    "id": "oXAuqqkHSz5h",
    "papermill": {
     "duration": 0.007731,
     "end_time": "2023-06-23T04:31:26.981352",
     "exception": false,
     "start_time": "2023-06-23T04:31:26.973621",
     "status": "completed"
    },
    "tags": []
   },
   "source": [
    "### Dataset\n",
    "We use Food11 dataset for this homework, which is similar to homework3. But remember, Please DO NOT utilize the dataset of HW3. We've modified the dataset, so you should only access the dataset by loading it in this kaggle notebook or through the links provided in the HW13 colab notebooks."
   ]
  },
  {
   "cell_type": "code",
   "execution_count": 5,
   "id": "825f949b",
   "metadata": {
    "execution": {
     "iopub.execute_input": "2023-06-23T04:31:26.998761Z",
     "iopub.status.busy": "2023-06-23T04:31:26.997956Z",
     "iopub.status.idle": "2023-06-23T04:31:27.002213Z",
     "shell.execute_reply": "2023-06-23T04:31:27.001394Z"
    },
    "id": "5ERoxWV4VM2K",
    "outputId": "8ddb2d0a-2719-4823-dbee-9817d799e88a",
    "papermill": {
     "duration": 0.014714,
     "end_time": "2023-06-23T04:31:27.003965",
     "exception": false,
     "start_time": "2023-06-23T04:31:26.989251",
     "status": "completed"
    },
    "tags": []
   },
   "outputs": [],
   "source": [
    "# fetch and download the dataset from github (about 1.12G)\n",
    "# import gdown\n",
    "# !wget -O Food-11.tar.gz https://www.dropbox.com/s/v97fi9xrwp9b964/food11-hw13.tar.gz?dl=0\n",
    "# gdown.download('https://drive.google.com/uc?id=1fTMLOeQ0-131Cq6ZLUndiwlTwE2CinYP', 'Food-11.tar.gz')"
   ]
  },
  {
   "cell_type": "code",
   "execution_count": 6,
   "id": "f9277cfc",
   "metadata": {
    "execution": {
     "iopub.execute_input": "2023-06-23T04:31:27.022137Z",
     "iopub.status.busy": "2023-06-23T04:31:27.020777Z",
     "iopub.status.idle": "2023-06-23T04:31:27.025453Z",
     "shell.execute_reply": "2023-06-23T04:31:27.024212Z"
    },
    "id": "eAC22Jf1WxL9",
    "papermill": {
     "duration": 0.017087,
     "end_time": "2023-06-23T04:31:27.029047",
     "exception": false,
     "start_time": "2023-06-23T04:31:27.011960",
     "status": "completed"
    },
    "tags": []
   },
   "outputs": [],
   "source": [
    "# extract the data\n",
    "# !tar -xzf ./Food-11.tar.gz # Could take some time\n",
    "# !tar -xzvf ./Food-11.tar.gz # use this command if you want to checkout the whole process."
   ]
  },
  {
   "cell_type": "code",
   "execution_count": 7,
   "id": "9d4f0a53",
   "metadata": {
    "_cell_guid": "b1076dfc-b9ad-4769-8c92-a6c4dae69d19",
    "_uuid": "8f2839f25d086af736a60e9eeb907d3b93b6e0e5",
    "execution": {
     "iopub.execute_input": "2023-06-23T04:31:27.052393Z",
     "iopub.status.busy": "2023-06-23T04:31:27.052107Z",
     "iopub.status.idle": "2023-06-23T04:31:31.717086Z",
     "shell.execute_reply": "2023-06-23T04:31:31.716206Z"
    },
    "id": "_CspVRJESz5h",
    "outputId": "82162209-7e13-4018-e5de-928c38bbcedb",
    "papermill": {
     "duration": 4.676034,
     "end_time": "2023-06-23T04:31:31.719101",
     "exception": false,
     "start_time": "2023-06-23T04:31:27.043067",
     "status": "completed"
    },
    "tags": []
   },
   "outputs": [
    {
     "name": "stdout",
     "output_type": "stream",
     "text": [
      "/kaggle/input/ml2023spring-hw13/Food-11: 1 files.\n",
      "/kaggle/input/ml2023spring-hw13/Food-11/validation: 4432 files.\n",
      "/kaggle/input/ml2023spring-hw13/Food-11/training: 9993 files.\n",
      "/kaggle/input/ml2023spring-hw13/Food-11/evaluation: 2218 files.\n"
     ]
    }
   ],
   "source": [
    "for dirname, _, filenames in os.walk('/kaggle/input/ml2023spring-hw13/Food-11'):\n",
    "    if len(filenames) > 0:\n",
    "        print(f\"{dirname}: {len(filenames)} files.\") # Show the file amounts in each split."
   ]
  },
  {
   "cell_type": "markdown",
   "id": "b244a86f",
   "metadata": {
    "id": "_J76I6bTSz5i",
    "papermill": {
     "duration": 0.008891,
     "end_time": "2023-06-23T04:31:31.737173",
     "exception": false,
     "start_time": "2023-06-23T04:31:31.728282",
     "status": "completed"
    },
    "tags": []
   },
   "source": [
    "Next, specify train/test transform for image data augmentation.\n",
    "Torchvision provides lots of useful utilities for image preprocessing, data wrapping as well as data augmentation.\n",
    "\n",
    "Please refer to [PyTorch official website](https://pytorch.org/vision/stable/transforms.html) for details about different transforms. You can also apply the knowledge or experience you learned in HW3."
   ]
  },
  {
   "cell_type": "code",
   "execution_count": 8,
   "id": "47da6d35",
   "metadata": {
    "execution": {
     "iopub.execute_input": "2023-06-23T04:31:31.756502Z",
     "iopub.status.busy": "2023-06-23T04:31:31.756218Z",
     "iopub.status.idle": "2023-06-23T04:31:31.765976Z",
     "shell.execute_reply": "2023-06-23T04:31:31.765113Z"
    },
    "id": "GYIvuK-RSz5i",
    "papermill": {
     "duration": 0.021546,
     "end_time": "2023-06-23T04:31:31.767877",
     "exception": false,
     "start_time": "2023-06-23T04:31:31.746331",
     "status": "completed"
    },
    "tags": []
   },
   "outputs": [],
   "source": [
    "normalize = transforms.Normalize(mean=[0.485, 0.456, 0.406], std=[0.229, 0.224, 0.225])\n",
    "# define training/testing transforms\n",
    "test_tfm = transforms.Compose([\n",
    "    # It is not encouraged to modify this part if you are using the provided teacher model. This transform is stardard and good enough for testing.\n",
    "    transforms.Resize(256),\n",
    "    transforms.CenterCrop(224),\n",
    "    transforms.ToTensor(),\n",
    "    normalize,\n",
    "])\n",
    "#  add\n",
    "if cfg['augmentation'] == 'default':\n",
    "    train_tfm = transforms.Compose([\n",
    "        # add some useful transform or augmentation here, according to your experience in HW3.\n",
    "        transforms.Resize(256),  # You can change this\n",
    "        transforms.CenterCrop(224), # You can change this, but be aware of that the given teacher model's input size is 224.\n",
    "        # The training input size of the provided teacher model is (3, 224, 224).\n",
    "        # Thus, Input size other then 224 might hurt the performance. please be careful.\n",
    "        transforms.ToTensor(),\n",
    "        normalize,\n",
    "    ])\n",
    "elif cfg['augmentation'] in ['rand', 'auto']:\n",
    "    train_tfm = transforms.Compose([\n",
    "        # add some useful transform or augmentation here, according to your experience in HW3.\n",
    "        transforms.Resize([224,224]),  # You can change this\n",
    "        transforms.RandAugment() if cfg['augmentation'] == 'rand' else transforms.AutoAugment(),\n",
    "        transforms.ToTensor(),\n",
    "        normalize,\n",
    "    ])\n",
    "# train_tfm = transforms.Compose([\n",
    "#     # add some useful transform or augmentation here, according to your experience in HW3.\n",
    "#     transforms.Resize(256),  # You can change this\n",
    "#     transforms.CenterCrop(224), # You can change this, but be aware of that the given teacher model's input size is 224.\n",
    "#     # The training input size of the provided teacher model is (3, 224, 224).\n",
    "#     # Thus, Input size other then 224 might hurt the performance. please be careful.\n",
    "#     transforms.RandomHorizontalFlip(), # You can change this.\n",
    "#     transforms.ToTensor(),\n",
    "#     normalize,\n",
    "# ])"
   ]
  },
  {
   "cell_type": "code",
   "execution_count": 9,
   "id": "381632a9",
   "metadata": {
    "execution": {
     "iopub.execute_input": "2023-06-23T04:31:31.786768Z",
     "iopub.status.busy": "2023-06-23T04:31:31.786509Z",
     "iopub.status.idle": "2023-06-23T04:31:31.794124Z",
     "shell.execute_reply": "2023-06-23T04:31:31.793213Z"
    },
    "id": "SsYOy-PBSz5i",
    "papermill": {
     "duration": 0.019066,
     "end_time": "2023-06-23T04:31:31.796066",
     "exception": false,
     "start_time": "2023-06-23T04:31:31.777000",
     "status": "completed"
    },
    "tags": []
   },
   "outputs": [],
   "source": [
    "class FoodDataset(Dataset):\n",
    "    def __init__(self, path, tfm=test_tfm, files = None):\n",
    "        super().__init__()\n",
    "        self.path = path\n",
    "        self.files = sorted([os.path.join(path,x) for x in os.listdir(path) if x.endswith(\".jpg\")])\n",
    "        if files != None:\n",
    "            self.files = files\n",
    "        print(f\"One {path} sample\",self.files[0])\n",
    "        self.transform = tfm\n",
    "  \n",
    "    def __len__(self):\n",
    "        return len(self.files)\n",
    "  \n",
    "    def __getitem__(self,idx):\n",
    "        fname = self.files[idx]\n",
    "        im = Image.open(fname)\n",
    "        im = self.transform(im)\n",
    "        try:\n",
    "            label = int(fname.split(\"/\")[-1].split(\"_\")[0])\n",
    "        except:\n",
    "            label = -1 # test has no label\n",
    "        return im,label"
   ]
  },
  {
   "cell_type": "code",
   "execution_count": 10,
   "id": "99a5009b",
   "metadata": {
    "execution": {
     "iopub.execute_input": "2023-06-23T04:31:31.815820Z",
     "iopub.status.busy": "2023-06-23T04:31:31.815524Z",
     "iopub.status.idle": "2023-06-23T04:31:31.866647Z",
     "shell.execute_reply": "2023-06-23T04:31:31.865534Z"
    },
    "id": "PUl030elSz5j",
    "outputId": "cd2db276-ecbf-4dbc-97ea-6ab8969a60ca",
    "papermill": {
     "duration": 0.064509,
     "end_time": "2023-06-23T04:31:31.869405",
     "exception": false,
     "start_time": "2023-06-23T04:31:31.804896",
     "status": "completed"
    },
    "tags": []
   },
   "outputs": [
    {
     "name": "stdout",
     "output_type": "stream",
     "text": [
      "One /kaggle/input/ml2023spring-hw13/Food-11/training sample /kaggle/input/ml2023spring-hw13/Food-11/training/0_0.jpg\n",
      "One /kaggle/input/ml2023spring-hw13/Food-11/validation sample /kaggle/input/ml2023spring-hw13/Food-11/validation/0_0.jpg\n"
     ]
    }
   ],
   "source": [
    "# Form train/valid dataloaders\n",
    "train_set = FoodDataset(os.path.join(cfg['dataset_root'],\"training\"), tfm=train_tfm)\n",
    "train_loader = DataLoader(train_set, batch_size=cfg['batch_size'], shuffle=True, num_workers=0, pin_memory=True)\n",
    "\n",
    "valid_set = FoodDataset(os.path.join(cfg['dataset_root'], \"validation\"), tfm=test_tfm)\n",
    "valid_loader = DataLoader(valid_set, batch_size=cfg['batch_size'], shuffle=False, num_workers=0, pin_memory=True)"
   ]
  },
  {
   "cell_type": "markdown",
   "id": "37d4edd7",
   "metadata": {
    "id": "NfXa-ZBRSz5k",
    "papermill": {
     "duration": 0.009581,
     "end_time": "2023-06-23T04:31:31.888669",
     "exception": false,
     "start_time": "2023-06-23T04:31:31.879088",
     "status": "completed"
    },
    "tags": []
   },
   "source": [
    "### Architecture_Design\n",
    "\n",
    "In this homework, you have to design a smaller network and make it perform well. Apparently, a well-designed architecture is crucial for such task. Here, we introduce the depthwise and pointwise convolution. These variants of convolution are some common techniques for architecture design when it comes to network compression.\n",
    "\n",
    "<img src=\"https://i.imgur.com/LFDKHOp.png\" width=400px>\n",
    "\n",
    "* explanation of depthwise and pointwise convolutions:\n",
    "    * [prof. Hung-yi Lee's slides(p.24~p.30, especially p.28)](https://speech.ee.ntu.edu.tw/~hylee/ml/ml2021-course-data/tiny_v7.pdf)\n",
    "\n",
    "* other useful techniques\n",
    "    * [group convolution](https://www.researchgate.net/figure/The-transformations-within-a-layer-in-DenseNets-left-and-CondenseNets-at-training-time_fig2_321325862) (Actually, depthwise convolution is a specific type of group convolution)\n",
    "    * [SqueezeNet](!https://arxiv.org/abs/1602.07360)\n",
    "    * [MobileNet](!https://arxiv.org/abs/1704.04861)\n",
    "    * [ShuffleNet](!https://arxiv.org/abs/1707.01083)\n",
    "    * [Xception](!https://arxiv.org/abs/1610.02357)\n",
    "    * [GhostNet](!https://arxiv.org/abs/1911.11907)\n"
   ]
  },
  {
   "cell_type": "markdown",
   "id": "cf360a1e",
   "metadata": {
    "id": "wo4hrDDESz5k",
    "papermill": {
     "duration": 0.009205,
     "end_time": "2023-06-23T04:31:31.907542",
     "exception": false,
     "start_time": "2023-06-23T04:31:31.898337",
     "status": "completed"
    },
    "tags": []
   },
   "source": [
    "After introducing depthwise and pointwise convolutions, let's define the **student network architecture**. Here, we have a very simple network formed by some regular convolution layers and pooling layers. You can replace the regular convolution layers with the depthwise and pointwise convolutions. In this way, you can further increase the depth or the width of your network architecture."
   ]
  },
  {
   "cell_type": "markdown",
   "id": "eb7a945e",
   "metadata": {
    "papermill": {
     "duration": 0.009442,
     "end_time": "2023-06-23T04:31:31.926423",
     "exception": false,
     "start_time": "2023-06-23T04:31:31.916981",
     "status": "completed"
    },
    "tags": []
   },
   "source": [
    "ADD"
   ]
  },
  {
   "cell_type": "code",
   "execution_count": 11,
   "id": "543d93bc",
   "metadata": {
    "execution": {
     "iopub.execute_input": "2023-06-23T04:31:31.947396Z",
     "iopub.status.busy": "2023-06-23T04:31:31.946539Z",
     "iopub.status.idle": "2023-06-23T04:31:31.971337Z",
     "shell.execute_reply": "2023-06-23T04:31:31.970409Z"
    },
    "papermill": {
     "duration": 0.037939,
     "end_time": "2023-06-23T04:31:31.973646",
     "exception": false,
     "start_time": "2023-06-23T04:31:31.935707",
     "status": "completed"
    },
    "tags": []
   },
   "outputs": [],
   "source": [
    "import math\n",
    "def conv_bn(inp, oup, stride):\n",
    "    return nn.Sequential(\n",
    "        nn.Conv2d(inp, oup, 3, stride, 1, bias=False),\n",
    "        nn.BatchNorm2d(oup),\n",
    "        nn.ReLU6(inplace=True)\n",
    "    )\n",
    "\n",
    "\n",
    "def conv_1x1_bn(inp, oup):\n",
    "    return nn.Sequential(\n",
    "        nn.Conv2d(inp, oup, 1, 1, 0, bias=False),\n",
    "        nn.BatchNorm2d(oup),\n",
    "        nn.ReLU6(inplace=True)\n",
    "    )\n",
    "\n",
    "\n",
    "def make_divisible(x, divisible_by=8):\n",
    "    import numpy as np\n",
    "    return int(np.ceil(x * 1. / divisible_by) * divisible_by)\n",
    "\n",
    "\n",
    "class InvertedResidual(nn.Module):\n",
    "    def __init__(self, inp, oup, stride, expand_ratio):\n",
    "        super(InvertedResidual, self).__init__()\n",
    "        self.stride = stride\n",
    "        assert stride in [1, 2]\n",
    "\n",
    "        hidden_dim = int(inp * expand_ratio)\n",
    "        self.use_res_connect = self.stride == 1 and inp == oup\n",
    "\n",
    "        if expand_ratio == 1:\n",
    "            self.conv = nn.Sequential(\n",
    "                # dw\n",
    "                nn.Conv2d(hidden_dim, hidden_dim, 3, stride, 1, groups=hidden_dim, bias=False),\n",
    "                nn.BatchNorm2d(hidden_dim),\n",
    "                nn.ReLU6(inplace=True),\n",
    "                # pw-linear\n",
    "                nn.Conv2d(hidden_dim, oup, 1, 1, 0, bias=False),\n",
    "                nn.BatchNorm2d(oup),\n",
    "            )\n",
    "        else:\n",
    "            self.conv = nn.Sequential(\n",
    "                # pw\n",
    "                nn.Conv2d(inp, hidden_dim, 1, 1, 0, bias=False),\n",
    "                nn.BatchNorm2d(hidden_dim),\n",
    "                nn.ReLU6(inplace=True),\n",
    "                # dw\n",
    "                nn.Conv2d(hidden_dim, hidden_dim, 3, stride, 1, groups=hidden_dim, bias=False),\n",
    "                nn.BatchNorm2d(hidden_dim),\n",
    "                nn.ReLU6(inplace=True),\n",
    "                # pw-linear\n",
    "                nn.Conv2d(hidden_dim, oup, 1, 1, 0, bias=False),\n",
    "                nn.BatchNorm2d(oup),\n",
    "            )\n",
    "\n",
    "    def forward(self, x):\n",
    "        if self.use_res_connect:\n",
    "            return x + self.conv(x)\n",
    "        else:\n",
    "            return self.conv(x)\n",
    "\n",
    "\n",
    "class MobileNetV2(nn.Module):\n",
    "    def __init__(self, n_class=11, input_size=128, width_mult=1.):\n",
    "        super(MobileNetV2, self).__init__()\n",
    "        block = InvertedResidual\n",
    "        input_channel = 32\n",
    "        last_channel = 100\n",
    "        interverted_residual_setting = [\n",
    "            # t, c, n, s\n",
    "            [1, 16, 1, 1],\n",
    "            [6, 24, 1, 2],\n",
    "            [6, 32, 1, 2],\n",
    "            [6, 64, 1, 2],\n",
    "#             [6, 64, 2, 2],\n",
    "        ]\n",
    "\n",
    "        # building first layer\n",
    "        assert input_size % 32 == 0\n",
    "        # input_channel = make_divisible(input_channel * width_mult)  # first channel is always 32!\n",
    "        self.last_channel = make_divisible(last_channel * width_mult) if width_mult > 1.0 else last_channel\n",
    "        self.features = [conv_bn(3, input_channel, 2)]\n",
    "        # building inverted residual blocks\n",
    "        for t, c, n, s in interverted_residual_setting:\n",
    "            output_channel = make_divisible(c * width_mult) if t > 1 else c\n",
    "            for i in range(n):\n",
    "                if i == 0:\n",
    "                    self.features.append(block(input_channel, output_channel, s, expand_ratio=t))\n",
    "                else:\n",
    "                    self.features.append(block(input_channel, output_channel, 1, expand_ratio=t))\n",
    "                input_channel = output_channel\n",
    "        # building last several layers\n",
    "        self.features.append(conv_1x1_bn(input_channel, self.last_channel))\n",
    "        # make it nn.Sequential\n",
    "        self.features = nn.Sequential(*self.features)\n",
    "\n",
    "        # building classifier\n",
    "        self.classifier = nn.Linear(self.last_channel, n_class)\n",
    "\n",
    "        self._initialize_weights()\n",
    "\n",
    "    def forward(self, x):\n",
    "        x = self.features(x)\n",
    "        x = x.mean(3).mean(2)\n",
    "        x = self.classifier(x)\n",
    "        return x\n",
    "\n",
    "    def _initialize_weights(self):\n",
    "        for m in self.modules():\n",
    "            if isinstance(m, nn.Conv2d):\n",
    "                n = m.kernel_size[0] * m.kernel_size[1] * m.out_channels\n",
    "                m.weight.data.normal_(0, math.sqrt(2. / n))\n",
    "                if m.bias is not None:\n",
    "                    m.bias.data.zero_()\n",
    "            elif isinstance(m, nn.BatchNorm2d):\n",
    "                m.weight.data.fill_(1)\n",
    "                m.bias.data.zero_()\n",
    "            elif isinstance(m, nn.Linear):\n",
    "                n = m.weight.size(1)\n",
    "                m.weight.data.normal_(0, 0.01)\n",
    "                m.bias.data.zero_()"
   ]
  },
  {
   "cell_type": "code",
   "execution_count": 12,
   "id": "d0e9c82e",
   "metadata": {
    "execution": {
     "iopub.execute_input": "2023-06-23T04:31:31.994283Z",
     "iopub.status.busy": "2023-06-23T04:31:31.993983Z",
     "iopub.status.idle": "2023-06-23T04:31:32.001452Z",
     "shell.execute_reply": "2023-06-23T04:31:32.000351Z"
    },
    "id": "DTin50J3Sz5k",
    "papermill": {
     "duration": 0.02062,
     "end_time": "2023-06-23T04:31:32.004054",
     "exception": false,
     "start_time": "2023-06-23T04:31:31.983434",
     "status": "completed"
    },
    "tags": []
   },
   "outputs": [],
   "source": [
    "# Define your student network here. You have to copy-paste this code block to HW13 GradeScope before deadline.\n",
    "# We will use your student network definition to evaluate your results(including the total parameter amount).\n",
    "\n",
    "# Example implementation of Depthwise and Pointwise Convolution \n",
    "# def dwpw_conv(in_channels, out_channels, kernel_size, stride=1, padding=0):\n",
    "#     return nn.Sequential(\n",
    "#         nn.Conv2d(in_channels, in_channels, kernel_size, stride=stride, padding=padding, groups=in_channels), #depthwise convolution\n",
    "#         nn.Conv2d(in_channels, out_channels, 1), # pointwise convolution\n",
    "#     )\n",
    "# def create_deepwise_point_wise_conv(nin, nout, kernel_size=3, stride=1, padding=0):\n",
    "#      return nn.Sequential(nn.Conv2d(nin, nin, kernel_size=kernel_size, stride=stride, padding=padding, groups=nin), \n",
    "#                                     nn.BatchNorm2d(nin),\n",
    "#                                   nn.LeakyReLU(),\n",
    "#                                   nn.Conv2d(nin, nout, kernel_size=1),\n",
    "#                                   nn.MaxPool2d(2)\n",
    "#                                  )\n",
    "# def create_cnn(nin, nout):\n",
    "#      return nn.Sequential(nn.Conv2d(nin, nout, 3), nn.BatchNorm2d(nout), nn.LeakyReLU())\n",
    "    \n",
    "# class StudentNet(nn.Module):\n",
    "#     def __init__(self):\n",
    "#       super().__init__()\n",
    "\n",
    "#       # ---------- TODO ----------\n",
    "#       # Modify your model architecture\n",
    "\n",
    "#       self.cnn = nn.Sequential(\n",
    "#         create_cnn(3, 32),        \n",
    "#         create_cnn(32, 64),\n",
    "#         create_deepwise_point_wise_conv(3, 8),\n",
    "#         create_deepwise_point_wise_conv(8, 16),\n",
    "#         create_deepwise_point_wise_conv(16, 32),\n",
    "#         # create_deepwise_point_wise_conv(32, 64),\n",
    "#         create_deepwise_point_wise_conv(32, 64),\n",
    "#         create_deepwise_point_wise_conv(64, 128),\n",
    "#         # create_deepwise_point_wise_conv(64, 128),\n",
    "#         create_deepwise_point_wise_conv(128, 256),\n",
    "#         nn.LeakyReLU(),\n",
    "# #         nn.Conv2d(3, 4, 3), \n",
    "# #         nn.BatchNorm2d(4),\n",
    "# #         nn.ReLU(),    \n",
    "\n",
    "# #         nn.Conv2d(4, 16, 3), \n",
    "# #         nn.BatchNorm2d(16),\n",
    "# #         nn.ReLU(),\n",
    "# #         nn.MaxPool2d(2, 2, 0),\n",
    "        \n",
    "# #         nn.Conv2d(16, 64, 3), \n",
    "# #         nn.BatchNorm2d(64),\n",
    "# #         nn.ReLU(),\n",
    "# #         nn.MaxPool2d(2, 2, 0),\n",
    "        \n",
    "# #         nn.Conv2d(64, 84, 3), \n",
    "# #         nn.BatchNorm2d(84),\n",
    "# #         nn.ReLU(),\n",
    "# #         nn.MaxPool2d(2, 2, 0),\n",
    "        \n",
    "#         # Here we adopt Global Average Pooling for various input size.\n",
    "#         nn.AdaptiveAvgPool2d((1, 1)),\n",
    "#       )\n",
    "#       self.fc = nn.Sequential(\n",
    "#         nn.LeakyReLU(),\n",
    "#         nn.Linear(256, 11),\n",
    "# #         nn.Linear(84, 11),\n",
    "#       )\n",
    "      \n",
    "#     def forward(self, x):\n",
    "#       out = self.cnn(x)\n",
    "#       out = out.view(out.size()[0], -1)\n",
    "#       return self.fc(out)\n",
    "\n",
    "# checkpoint = torch.load('/kaggle/input/hw13data/student_best (2).ckpt')\n",
    "def get_student_model(): # This function should have no arguments so that we can get your student network by directly calling it.\n",
    "    # you can modify or do anything here, just remember to return an nn.Module as your student network.  \n",
    "#     add\n",
    "    model = MobileNetV2(width_mult=1)\n",
    "#     model.load_state_dict(checkpoint['model'])\n",
    "#     optimizer.load_state_dict(checkpoint['optimizer'])\n",
    "    return model\n",
    "\n",
    "# End of definition of your student model and the get_student_model API\n",
    "# Please copy-paste the whole code block, including the get_student_model function."
   ]
  },
  {
   "cell_type": "markdown",
   "id": "8b14fee4",
   "metadata": {
    "id": "w99ooIeOSz5k",
    "papermill": {
     "duration": 0.009573,
     "end_time": "2023-06-23T04:31:32.023047",
     "exception": false,
     "start_time": "2023-06-23T04:31:32.013474",
     "status": "completed"
    },
    "tags": []
   },
   "source": [
    "After specifying the student network architecture, please use `torchsummary` package to get information about the network and verify the total number of parameters. Note that the total params of your student network should not exceed the limit (`Total params` in `torchsummary` ≤ 60,000). "
   ]
  },
  {
   "cell_type": "code",
   "execution_count": 13,
   "id": "565842fc",
   "metadata": {
    "execution": {
     "iopub.execute_input": "2023-06-23T04:31:32.042820Z",
     "iopub.status.busy": "2023-06-23T04:31:32.042537Z",
     "iopub.status.idle": "2023-06-23T04:31:32.350022Z",
     "shell.execute_reply": "2023-06-23T04:31:32.347351Z"
    },
    "id": "ef3hT8W2Sz5k",
    "outputId": "cb1bea2f-18a8-48b1-9b6a-85ebefcd0429",
    "papermill": {
     "duration": 0.320026,
     "end_time": "2023-06-23T04:31:32.352455",
     "exception": false,
     "start_time": "2023-06-23T04:31:32.032429",
     "status": "completed"
    },
    "tags": []
   },
   "outputs": [
    {
     "name": "stdout",
     "output_type": "stream",
     "text": [
      "----------------------------------------------------------------\n",
      "        Layer (type)               Output Shape         Param #\n",
      "================================================================\n",
      "            Conv2d-1         [-1, 32, 112, 112]             864\n",
      "       BatchNorm2d-2         [-1, 32, 112, 112]              64\n",
      "             ReLU6-3         [-1, 32, 112, 112]               0\n",
      "            Conv2d-4         [-1, 32, 112, 112]             288\n",
      "       BatchNorm2d-5         [-1, 32, 112, 112]              64\n",
      "             ReLU6-6         [-1, 32, 112, 112]               0\n",
      "            Conv2d-7         [-1, 16, 112, 112]             512\n",
      "       BatchNorm2d-8         [-1, 16, 112, 112]              32\n",
      "  InvertedResidual-9         [-1, 16, 112, 112]               0\n",
      "           Conv2d-10         [-1, 96, 112, 112]           1,536\n",
      "      BatchNorm2d-11         [-1, 96, 112, 112]             192\n",
      "            ReLU6-12         [-1, 96, 112, 112]               0\n",
      "           Conv2d-13           [-1, 96, 56, 56]             864\n",
      "      BatchNorm2d-14           [-1, 96, 56, 56]             192\n",
      "            ReLU6-15           [-1, 96, 56, 56]               0\n",
      "           Conv2d-16           [-1, 24, 56, 56]           2,304\n",
      "      BatchNorm2d-17           [-1, 24, 56, 56]              48\n",
      " InvertedResidual-18           [-1, 24, 56, 56]               0\n",
      "           Conv2d-19          [-1, 144, 56, 56]           3,456\n",
      "      BatchNorm2d-20          [-1, 144, 56, 56]             288\n",
      "            ReLU6-21          [-1, 144, 56, 56]               0\n",
      "           Conv2d-22          [-1, 144, 28, 28]           1,296\n",
      "      BatchNorm2d-23          [-1, 144, 28, 28]             288\n",
      "            ReLU6-24          [-1, 144, 28, 28]               0\n",
      "           Conv2d-25           [-1, 32, 28, 28]           4,608\n",
      "      BatchNorm2d-26           [-1, 32, 28, 28]              64\n",
      " InvertedResidual-27           [-1, 32, 28, 28]               0\n",
      "           Conv2d-28          [-1, 192, 28, 28]           6,144\n",
      "      BatchNorm2d-29          [-1, 192, 28, 28]             384\n",
      "            ReLU6-30          [-1, 192, 28, 28]               0\n",
      "           Conv2d-31          [-1, 192, 14, 14]           1,728\n",
      "      BatchNorm2d-32          [-1, 192, 14, 14]             384\n",
      "            ReLU6-33          [-1, 192, 14, 14]               0\n",
      "           Conv2d-34           [-1, 64, 14, 14]          12,288\n",
      "      BatchNorm2d-35           [-1, 64, 14, 14]             128\n",
      " InvertedResidual-36           [-1, 64, 14, 14]               0\n",
      "           Conv2d-37          [-1, 100, 14, 14]           6,400\n",
      "      BatchNorm2d-38          [-1, 100, 14, 14]             200\n",
      "            ReLU6-39          [-1, 100, 14, 14]               0\n",
      "           Linear-40                   [-1, 11]           1,111\n",
      "================================================================\n",
      "Total params: 45,727\n",
      "Trainable params: 45,727\n",
      "Non-trainable params: 0\n",
      "----------------------------------------------------------------\n",
      "Input size (MB): 0.57\n",
      "Forward/backward pass size (MB): 77.68\n",
      "Params size (MB): 0.17\n",
      "Estimated Total Size (MB): 78.43\n",
      "----------------------------------------------------------------\n"
     ]
    }
   ],
   "source": [
    "# DO NOT modify this block and please make sure that this block can run sucessfully. \n",
    "student_model = get_student_model()\n",
    "summary(student_model, (3, 224, 224), device='cpu')\n",
    "# You have to copy&paste the results of this block to HW13 GradeScope. "
   ]
  },
  {
   "cell_type": "code",
   "execution_count": 14,
   "id": "a7e24127",
   "metadata": {
    "execution": {
     "iopub.execute_input": "2023-06-23T04:31:32.373792Z",
     "iopub.status.busy": "2023-06-23T04:31:32.372948Z",
     "iopub.status.idle": "2023-06-23T04:31:34.872148Z",
     "shell.execute_reply": "2023-06-23T04:31:34.871146Z"
    },
    "id": "EMsCeYkeSz5l",
    "outputId": "a7dab52f-d758-4b11-f1e1-53d9f56ed69d",
    "papermill": {
     "duration": 2.511809,
     "end_time": "2023-06-23T04:31:34.874251",
     "exception": false,
     "start_time": "2023-06-23T04:31:32.362442",
     "status": "completed"
    },
    "tags": []
   },
   "outputs": [
    {
     "name": "stderr",
     "output_type": "stream",
     "text": [
      "Downloading: \"https://github.com/pytorch/vision/zipball/v0.10.0\" to /root/.cache/torch/hub/v0.10.0.zip\n",
      "/opt/conda/lib/python3.10/site-packages/torchvision/models/_utils.py:208: UserWarning: The parameter 'pretrained' is deprecated since 0.13 and may be removed in the future, please use 'weights' instead.\n",
      "  warnings.warn(\n",
      "/opt/conda/lib/python3.10/site-packages/torchvision/models/_utils.py:223: UserWarning: Arguments other than a weight enum or `None` for 'weights' are deprecated since 0.13 and may be removed in the future. The current behavior is equivalent to passing `weights=None`.\n",
      "  warnings.warn(msg)\n"
     ]
    },
    {
     "data": {
      "text/plain": [
       "<All keys matched successfully>"
      ]
     },
     "execution_count": 14,
     "metadata": {},
     "output_type": "execute_result"
    }
   ],
   "source": [
    "# Load provided teacher model (model architecture: resnet18, num_classes=11, test-acc ~= 89.9%)\n",
    "teacher_model = torch.hub.load('pytorch/vision:v0.10.0', 'resnet18', pretrained=False, num_classes=11)\n",
    "# load state dict\n",
    "teacher_ckpt_path = os.path.join(cfg['dataset_root'], \"resnet18_teacher.ckpt\")\n",
    "teacher_model.load_state_dict(torch.load(teacher_ckpt_path, map_location='cpu'))\n",
    "# Now you already know the teacher model's architecture. You can take advantage of it if you want to pass the strong or boss baseline. \n",
    "# Source code of resnet in pytorch: (https://github.com/pytorch/vision/blob/main/torchvision/models/resnet.py)\n",
    "# You can also see the summary of teacher model. There are 11,182,155 parameters totally in the teacher model\n",
    "# summary(teacher_model, (3, 224, 224), device='cpu')"
   ]
  },
  {
   "cell_type": "markdown",
   "id": "ca0a7a5e",
   "metadata": {
    "id": "SssBmJciSz5l",
    "papermill": {
     "duration": 0.009227,
     "end_time": "2023-06-23T04:31:34.893066",
     "exception": false,
     "start_time": "2023-06-23T04:31:34.883839",
     "status": "completed"
    },
    "tags": []
   },
   "source": [
    "### Knowledge_Distillation\n",
    "\n",
    "<img src=\"https://i.imgur.com/H2aF7Rv.png=100x\" width=\"400px\">\n",
    "\n",
    "Since we have a learned big model, let it teach the other small model. In implementation, let the training target be the prediction of big model instead of the ground truth.\n",
    "\n",
    "**Why it works?**\n",
    "* If the data is not clean, then the prediction of big model could ignore the noise of the data with wrong labeled.\n",
    "* There might have some relations between classes, so soft labels from teacher model might be useful. For example, Number 8 is more similar to 6, 9, 0 than 1, 7.\n",
    "\n",
    "\n",
    "**How to implement?**\n",
    "* $Loss = \\alpha T^2 \\times KL(p || q) + (1-\\alpha)(\\text{Original Cross Entropy Loss}), \\text{where } p=softmax(\\frac{\\text{student's logits}}{T}), \\text{and } q=softmax(\\frac{\\text{teacher's logits}}{T})$\n",
    "* very useful link: [pytorch docs of KLDivLoss with examples](!https://pytorch.org/docs/stable/generated/torch.nn.KLDivLoss.html)\n",
    "* original paper: [Distilling the Knowledge in a Neural Network](!https://arxiv.org/abs/1503.02531)"
   ]
  },
  {
   "cell_type": "code",
   "execution_count": 15,
   "id": "757a0098",
   "metadata": {
    "execution": {
     "iopub.execute_input": "2023-06-23T04:31:34.913150Z",
     "iopub.status.busy": "2023-06-23T04:31:34.912857Z",
     "iopub.status.idle": "2023-06-23T04:31:34.927863Z",
     "shell.execute_reply": "2023-06-23T04:31:34.926890Z"
    },
    "id": "twZb0G9-Sz5l",
    "papermill": {
     "duration": 0.02761,
     "end_time": "2023-06-23T04:31:34.929888",
     "exception": false,
     "start_time": "2023-06-23T04:31:34.902278",
     "status": "completed"
    },
    "tags": []
   },
   "outputs": [],
   "source": [
    "import torch.nn.functional as F\n",
    "# Implement the loss function with KL divergence loss for knowledge distillation.\n",
    "# You also have to copy-paste this whole block to HW13 GradeScope. \n",
    "def loss_fn_kd(student_logits, labels, teacher_logits, alpha=0.5, temperature=1.0):\n",
    "    # ------------TODO-------------\n",
    "    # Refer to the above formula and finish the loss function for knowkedge distillation using KL divergence loss and CE loss.\n",
    "    # If you have no idea, please take a look at the provided useful link above.\n",
    "    p = torch.log_softmax(student_logits / temperature, dim=-1)    \n",
    "    q = torch.softmax(teacher_logits / temperature, dim=-1)\n",
    "    return alpha * (temperature ** 2) * F.kl_div(p, q, reduction='batchmean') + (1 - alpha) * F.cross_entropy(student_logits, labels)\n",
    "# add\n",
    "class RKD(nn.Module):\n",
    "\n",
    "    def __init__(self, w_dist, w_angle, alpha=0.5):\n",
    "        super(RKD, self).__init__()\n",
    "\n",
    "        self.w_dist = w_dist\n",
    "        self.w_angle = w_angle\n",
    "        \n",
    "        self.alpha = alpha\n",
    "\n",
    "    def forward(self, feat_s, labels, feat_t):\n",
    "        loss = self.w_dist * self.rkd_dist(feat_s, feat_t) + \\\n",
    "            self.w_angle * self.rkd_angle(feat_s, feat_t)\n",
    "        loss = self.alpha * loss +  (1 - self.alpha) * F.cross_entropy(feat_s, labels)\n",
    "\n",
    "        return loss\n",
    "    \n",
    "    def rkd_dist(self, feat_s, feat_t):\n",
    "      feat_t_dist = self.pdist(feat_t, squared=False)\n",
    "      mean_feat_t_dist = feat_t_dist[feat_t_dist>0].mean()\n",
    "      feat_t_dist = feat_t_dist / mean_feat_t_dist\n",
    "\n",
    "      feat_s_dist = self.pdist(feat_s, squared=False)\n",
    "      mean_feat_s_dist = feat_s_dist[feat_s_dist>0].mean()\n",
    "      feat_s_dist = feat_s_dist / mean_feat_s_dist\n",
    "\n",
    "      loss = F.smooth_l1_loss(feat_s_dist, feat_t_dist)\n",
    "\n",
    "      return loss\n",
    "\n",
    "\n",
    "    def rkd_angle(self, feat_s, feat_t):\n",
    "        # N x C --> N x N x C\n",
    "        feat_t_vd = (feat_t.unsqueeze(0) - feat_t.unsqueeze(1))\n",
    "        norm_feat_t_vd = F.normalize(feat_t_vd, p=2, dim=2)\n",
    "        feat_t_angle = torch.bmm(norm_feat_t_vd,\n",
    "                                 norm_feat_t_vd.transpose(1, 2)).view(-1)\n",
    "\n",
    "        feat_s_vd = (feat_s.unsqueeze(0) - feat_s.unsqueeze(1))\n",
    "        norm_feat_s_vd = F.normalize(feat_s_vd, p=2, dim=2)\n",
    "        feat_s_angle = torch.bmm(norm_feat_s_vd,\n",
    "                                 norm_feat_s_vd.transpose(1, 2)).view(-1)\n",
    "\n",
    "        loss = F.smooth_l1_loss(feat_s_angle, feat_t_angle)\n",
    "\n",
    "        return loss\n",
    "\n",
    "    def pdist(self, feat, squared=False, eps=1e-12):\n",
    "        feat_square = feat.pow(2).sum(dim=1)\n",
    "        feat_prod = torch.mm(feat, feat.t())\n",
    "        feat_dist = (feat_square.unsqueeze(0) + feat_square.unsqueeze(1) -\n",
    "                     2 * feat_prod).clamp(min=eps)\n",
    "\n",
    "        if not squared:\n",
    "            feat_dist = feat_dist.sqrt()\n",
    "\n",
    "        feat_dist = feat_dist.clone()\n",
    "        feat_dist[range(len(feat)), range(len(feat))] = 0\n",
    "\n",
    "        return feat_dist"
   ]
  },
  {
   "cell_type": "code",
   "execution_count": 16,
   "id": "7eff8a5c",
   "metadata": {
    "execution": {
     "iopub.execute_input": "2023-06-23T04:31:34.949799Z",
     "iopub.status.busy": "2023-06-23T04:31:34.949514Z",
     "iopub.status.idle": "2023-06-23T04:31:37.903018Z",
     "shell.execute_reply": "2023-06-23T04:31:37.901940Z"
    },
    "id": "alv2sq_xSz5l",
    "outputId": "2d9d821a-656c-489b-d629-0aa1d388df99",
    "papermill": {
     "duration": 2.966701,
     "end_time": "2023-06-23T04:31:37.905997",
     "exception": false,
     "start_time": "2023-06-23T04:31:34.939296",
     "status": "completed"
    },
    "tags": []
   },
   "outputs": [
    {
     "name": "stdout",
     "output_type": "stream",
     "text": [
      "device: cuda\n"
     ]
    }
   ],
   "source": [
    "# choose the loss function by the config\n",
    "if cfg['loss_fn_type'] == 'CE':\n",
    "    # For the classification task, we use cross-entropy as the default loss function.\n",
    "    loss_fn = nn.CrossEntropyLoss() # loss function for simple baseline.\n",
    "\n",
    "if cfg['loss_fn_type'] == 'KD': # KD stands for knowledge distillation\n",
    "    loss_fn = loss_fn_kd # implement loss_fn_kd for the report question and the medium baseline.\n",
    "\n",
    "elif cfg['loss_fn_type'] =='RKD':\n",
    "    loss_fn = RKD(25, 50)\n",
    "# You can also adopt other types of knowledge distillation techniques for strong and boss baseline, but use function name other than `loss_fn_kd`\n",
    "# For example:\n",
    "# def loss_fn_custom_kd():\n",
    "#     pass\n",
    "# if cfg['loss_fn_type'] == 'custom_kd':\n",
    "#     loss_fn = loss_fn_custom_kd\n",
    "\n",
    "# \"cuda\" only when GPUs are available.\n",
    "device = \"cuda\" if torch.cuda.is_available() else \"cpu\"\n",
    "log(f\"device: {device}\")\n",
    "teacher_model.to(device)\n",
    "teacher_model.eval()\n",
    "\n",
    "# The number of training epochs and patience.\n",
    "n_epochs = cfg['n_epochs']\n",
    "patience = cfg['patience'] # If no improvement in 'patience' epochs, early stop"
   ]
  },
  {
   "cell_type": "markdown",
   "id": "093c3261",
   "metadata": {
    "id": "pI_HZWNFSz5l",
    "papermill": {
     "duration": 0.010563,
     "end_time": "2023-06-23T04:31:37.928034",
     "exception": false,
     "start_time": "2023-06-23T04:31:37.917471",
     "status": "completed"
    },
    "tags": []
   },
   "source": [
    "### Training\n",
    "implement training loop for simple baseline, feel free to modify it."
   ]
  },
  {
   "cell_type": "code",
   "execution_count": 17,
   "id": "23155429",
   "metadata": {
    "execution": {
     "iopub.execute_input": "2023-06-23T04:31:37.948445Z",
     "iopub.status.busy": "2023-06-23T04:31:37.948123Z",
     "iopub.status.idle": "2023-06-23T04:34:52.649018Z",
     "shell.execute_reply": "2023-06-23T04:34:52.647971Z"
    },
    "id": "1STfGFhSSz5l",
    "outputId": "eadee14d-43d7-4085-aa44-f23529859ea2",
    "papermill": {
     "duration": 194.713969,
     "end_time": "2023-06-23T04:34:52.651362",
     "exception": false,
     "start_time": "2023-06-23T04:31:37.937393",
     "status": "completed"
    },
    "tags": []
   },
   "outputs": [
    {
     "data": {
      "application/vnd.jupyter.widget-view+json": {
       "model_id": "19a8a0853cc44218a7ff75f41f5a6d00",
       "version_major": 2,
       "version_minor": 0
      },
      "text/plain": [
       "  0%|          | 0/79 [00:00<?, ?it/s]"
      ]
     },
     "metadata": {},
     "output_type": "display_data"
    },
    {
     "name": "stdout",
     "output_type": "stream",
     "text": [
      "[ Train | 001/001 ] loss = 4.05181, acc = 0.00000\n"
     ]
    },
    {
     "data": {
      "application/vnd.jupyter.widget-view+json": {
       "model_id": "78bf139346b1471eb09aba9e4a73391a",
       "version_major": 2,
       "version_minor": 0
      },
      "text/plain": [
       "  0%|          | 0/35 [00:00<?, ?it/s]"
      ]
     },
     "metadata": {},
     "output_type": "display_data"
    },
    {
     "name": "stdout",
     "output_type": "stream",
     "text": [
      "[ Valid | 001/001 ] loss = 4.11441, acc = 0.15839 -> best\n",
      "Best model found at epoch 1, saving model\n",
      "Finish training\n"
     ]
    }
   ],
   "source": [
    "import wandb\n",
    "import numpy as np\n",
    "\n",
    "def join_cfg(cfg:dict):\n",
    "    ignore = ['dataset_root', 'save_dir', 'exp_name', 'batch_size', 'seed']\n",
    "    result = []\n",
    "    for k, v in cfg.items():\n",
    "        if k not in ignore:\n",
    "            result.append(f'{k}-{v}')\n",
    "    return '_'.join(result)\n",
    "\n",
    "# Initialize a model, and put it on the device specified.\n",
    "student_model.to(device)\n",
    "# teacher_model.to(device) # MEDIUM BASELINE\n",
    "\n",
    "# Initialize optimizer, you may fine-tune some hyperparameters such as learning rate on your own.\n",
    "# optimizer = torch.optim.Adam(student_model.parameters(), lr=cfg['lr'], weight_decay=cfg['weight_decay']) \n",
    "optimizer = torch.optim.Adam(student_model.parameters(), lr=cfg['lr'], weight_decay=cfg['weight_decay']) \n",
    "# optimizer.load_state_dict(checkpoint['optimizer'])\n",
    "\n",
    "scheduler = torch.optim.lr_scheduler.StepLR(optimizer, step_size = 50, gamma = 0.5, verbose=False)\n",
    "\n",
    "# Initialize trackers, these are not parameters and should not be changed\n",
    "stale = 0\n",
    "best_acc = 0.0\n",
    "# wandb.init(project='ML_hw13', config=cfg, name=join_cfg(cfg))\n",
    "teacher_model.eval()  # MEDIUM BASELINE\n",
    "\n",
    "\n",
    "# def checkpoint(epoch, lr):\n",
    "#     model_out_path = f\"{save_path}/LapSRN_epoch_{epoch}.pt\"\n",
    "#     state_r = {'model': student_model.state_dict(), 'optimizer': optimizer.state_dict(), 'epoch':epoch, 'lr':lr}\n",
    "#     torch.save(state_r, model_out_path)\n",
    "#     print(\"Checkpoint saved to {} \".format(model_out_path))\n",
    "    \n",
    "# teacher_model.eval()  # MEDIUM BASELINE\n",
    "# start_epoch = checkpoint['epoch']+1\n",
    "\n",
    "for epoch in range(n_epochs):\n",
    "\n",
    "    # ---------- Training ----------\n",
    "    # Make sure the model is in train mode before training.\n",
    "    student_model.train()\n",
    "\n",
    "    # These are used to record information in training.\n",
    "    train_loss = []\n",
    "    train_accs = []\n",
    "    train_lens = []\n",
    "\n",
    "    for batch in tqdm(train_loader):\n",
    "\n",
    "        # A batch consists of image data and corresponding labels.\n",
    "        imgs, labels = batch\n",
    "        imgs = imgs.to(device)\n",
    "        labels = labels.to(device)\n",
    "        #imgs = imgs.half()\n",
    "        #print(imgs.shape,labels.shape)\n",
    "        \n",
    "        # mixup\n",
    "        if random.random() < cfg['mixup_prob']:\n",
    "            indices = torch.randperm(imgs.size(0), device=imgs.device, dtype=torch.long)\n",
    "            gamma = np.random.beta(0.2, 0.2)\n",
    "            labels = F.one_hot(labels, 11)\n",
    "            imgs = imgs.mul(gamma).add(imgs[indices], alpha=1-gamma)\n",
    "            labels = labels.mul(gamma).add(labels[indices], alpha=1-gamma)\n",
    "            \n",
    "        # Forward the data. (Make sure data and model are on the same device.)\n",
    "        with torch.no_grad():  # MEDIUM BASELINE\n",
    "            teacher_logits = teacher_model(imgs)  # MEDIUM BASELINE\n",
    "        \n",
    "        logits = student_model(imgs)\n",
    "\n",
    "        # Calculate the cross-entropy loss.\n",
    "        # We don't need to apply softmax before computing cross-entropy as it is done automatically.\n",
    "        loss = loss_fn(logits, labels, teacher_logits) # MEDIUM BASELINE\n",
    "#         loss = loss_fn(logits, labels) # SIMPLE BASELINE\n",
    "        # Gradients stored in the parameters in the previous step should be cleared out first.\n",
    "        optimizer.zero_grad()\n",
    "\n",
    "        # Compute the gradients for parameters.\n",
    "        loss.backward()\n",
    "\n",
    "        # Clip the gradient norms for stable training.\n",
    "        grad_norm = nn.utils.clip_grad_norm_(student_model.parameters(), max_norm=cfg['grad_norm_max'])\n",
    "\n",
    "        # Update the parameters with computed gradients.\n",
    "        optimizer.step()\n",
    "\n",
    "        # Compute the accuracy for current batch.\n",
    "#         acc = (logits.argmax(dim=-1) == labels).float().sum()\n",
    "\n",
    "        # Record the loss and accuracy.\n",
    "        train_batch_len = len(imgs)\n",
    "        train_loss.append(loss.item() * train_batch_len)\n",
    "#         train_accs.append(acc)\n",
    "        train_lens.append(train_batch_len)\n",
    "        \n",
    "    train_loss = sum(train_loss) / sum(train_lens)\n",
    "    train_acc = sum(train_accs) / sum(train_lens)\n",
    "\n",
    "    # Print the information.\n",
    "    log(f\"[ Train | {epoch + 1:03d}/{n_epochs:03d} ] loss = {train_loss:.5f}, acc = {train_acc:.5f}\")\n",
    "\n",
    "    # ---------- Validation ----------\n",
    "    # Make sure the model is in eval mode so that some modules like dropout are disabled and work normally.\n",
    "    student_model.eval()\n",
    "\n",
    "    # These are used to record information in validation.\n",
    "    valid_loss = []\n",
    "    valid_accs = []\n",
    "    valid_lens = []\n",
    "\n",
    "    # Iterate the validation set by batches.\n",
    "    for batch in tqdm(valid_loader):\n",
    "\n",
    "        # A batch consists of image data and corresponding labels.\n",
    "        imgs, labels = batch\n",
    "        imgs = imgs.to(device)\n",
    "        labels = labels.to(device)\n",
    "\n",
    "        # We don't need gradient in validation.\n",
    "        # Using torch.no_grad() accelerates the forward process.\n",
    "        with torch.no_grad():\n",
    "            logits = student_model(imgs)\n",
    "            teacher_logits = teacher_model(imgs) # MEDIUM BASELINE\n",
    "\n",
    "        # We can still compute the loss (but not the gradient).\n",
    "        loss = loss_fn(logits, labels, teacher_logits) # MEDIUM BASELINE\n",
    "#         loss = loss_fn(logits, labels) # SIMPLE BASELINE\n",
    "\n",
    "        # Compute the accuracy for current batch.\n",
    "#         acc = (logits.argmax(dim=-1) == labels).float().sum()\n",
    "        acc = (logits.argmax(dim=-1) == labels).float().sum().item()\n",
    "    \n",
    "        # Record the loss and accuracy.\n",
    "        batch_len = len(imgs)\n",
    "        valid_loss.append(loss.item() * batch_len)\n",
    "        valid_accs.append(acc)\n",
    "        valid_lens.append(batch_len)\n",
    "        #break\n",
    "\n",
    "    # The average loss and accuracy for entire validation set is the average of the recorded values.\n",
    "    valid_loss = sum(valid_loss) / sum(valid_lens)\n",
    "    valid_acc = sum(valid_accs) / sum(valid_lens)\n",
    "\n",
    "    # update logs\n",
    "    \n",
    "    if valid_acc > best_acc:\n",
    "        log(f\"[ Valid | {epoch + 1:03d}/{n_epochs:03d} ] loss = {valid_loss:.5f}, acc = {valid_acc:.5f} -> best\")\n",
    "    else:\n",
    "        log(f\"[ Valid | {epoch + 1:03d}/{n_epochs:03d} ] loss = {valid_loss:.5f}, acc = {valid_acc:.5f}\")\n",
    "\n",
    "\n",
    "    # save models\n",
    "    if valid_acc > best_acc:\n",
    "        state_r = {'model': student_model.state_dict(), 'optimizer': optimizer.state_dict(), 'epoch':epoch}\n",
    "        log(f\"Best model found at epoch {epoch+1}, saving model\")\n",
    "        torch.save(state_r, f\"{save_path}/student_best.ckpt\") # only save best to prevent output memory exceed error\n",
    "        best_acc = valid_acc\n",
    "        stale = 0\n",
    "#         checkpoint(epoch)\n",
    "    else:\n",
    "        stale += 1\n",
    "        if stale > patience:\n",
    "            log(f\"No improvment {patience} consecutive epochs, early stopping\")\n",
    "            break\n",
    "        \n",
    "        \n",
    "log(\"Finish training\")\n",
    "log_fw.close()"
   ]
  },
  {
   "cell_type": "markdown",
   "id": "c23dc72a",
   "metadata": {
    "id": "pZDwoTEISz5m",
    "papermill": {
     "duration": 0.009793,
     "end_time": "2023-06-23T04:34:52.671464",
     "exception": false,
     "start_time": "2023-06-23T04:34:52.661671",
     "status": "completed"
    },
    "tags": []
   },
   "source": [
    "### Inference\n",
    "load the best model of the experiment and generate submission.csv"
   ]
  },
  {
   "cell_type": "code",
   "execution_count": 18,
   "id": "6b4f0455",
   "metadata": {
    "execution": {
     "iopub.execute_input": "2023-06-23T04:34:52.692770Z",
     "iopub.status.busy": "2023-06-23T04:34:52.692471Z",
     "iopub.status.idle": "2023-06-23T04:34:52.704445Z",
     "shell.execute_reply": "2023-06-23T04:34:52.703217Z"
    },
    "id": "QHeuiLSDSz5m",
    "outputId": "51e56075-6ce3-4dfa-f2bd-0e0d7ef00fa8",
    "papermill": {
     "duration": 0.02493,
     "end_time": "2023-06-23T04:34:52.706365",
     "exception": false,
     "start_time": "2023-06-23T04:34:52.681435",
     "status": "completed"
    },
    "tags": []
   },
   "outputs": [
    {
     "name": "stdout",
     "output_type": "stream",
     "text": [
      "One /kaggle/input/ml2023spring-hw13/Food-11/evaluation sample /kaggle/input/ml2023spring-hw13/Food-11/evaluation/0000.jpg\n"
     ]
    }
   ],
   "source": [
    "# create dataloader for evaluation\n",
    "eval_set = FoodDataset(os.path.join(cfg['dataset_root'], \"evaluation\"), tfm=test_tfm)\n",
    "eval_loader = DataLoader(eval_set, batch_size=cfg['batch_size'], shuffle=False, num_workers=0, pin_memory=True)"
   ]
  },
  {
   "cell_type": "code",
   "execution_count": 19,
   "id": "e8b1ceb5",
   "metadata": {
    "execution": {
     "iopub.execute_input": "2023-06-23T04:34:52.727898Z",
     "iopub.status.busy": "2023-06-23T04:34:52.727635Z",
     "iopub.status.idle": "2023-06-23T04:43:17.903407Z",
     "shell.execute_reply": "2023-06-23T04:43:17.902497Z"
    },
    "id": "6BsLuZLkSz5m",
    "outputId": "48060ab3-e2e2-4ba9-c254-1b44b7d9b2cc",
    "papermill": {
     "duration": 505.189165,
     "end_time": "2023-06-23T04:43:17.905461",
     "exception": false,
     "start_time": "2023-06-23T04:34:52.716296",
     "status": "completed"
    },
    "tags": []
   },
   "outputs": [
    {
     "name": "stdout",
     "output_type": "stream",
     "text": [
      "One /kaggle/input/ml2023spring-hw13/Food-11/evaluation sample /kaggle/input/ml2023spring-hw13/Food-11/evaluation/0000.jpg\n"
     ]
    },
    {
     "data": {
      "application/vnd.jupyter.widget-view+json": {
       "model_id": "48d3e4883e124835b3c4c452b674a287",
       "version_major": 2,
       "version_minor": 0
      },
      "text/plain": [
       "  0%|          | 0/2218 [00:00<?, ?it/s]"
      ]
     },
     "metadata": {},
     "output_type": "display_data"
    }
   ],
   "source": [
    "# Load model from {exp_name}/student_best.ckpt\n",
    "student_model_best = get_student_model() # get a new student model to avoid reference before assignment.\n",
    "# ckpt_path = f\"{save_path}/student_best.ckpt\" # the ckpt path of the best student model.\n",
    "checkpoint = torch.load(f\"{save_path}/student_best.ckpt\", map_location='cpu')\n",
    "student_model_best.load_state_dict(checkpoint['model'])\n",
    "# student_model_best.load_state_dict(torch.load(ckpt_path, map_location='cpu')) # load the state dict and set it to the student model\n",
    "student_model_best.to(device) # set the student model to device\n",
    "\n",
    "ensemble_num = 30\n",
    "# Start evaluate\n",
    "student_model_best.eval()\n",
    "eval_preds = [] # storing predictions of the evaluation dataset\n",
    "eval_set = FoodDataset(os.path.join(cfg['dataset_root'], \"evaluation\"), tfm=train_tfm)\n",
    "\n",
    "def pad4(i):\n",
    "    return \"0\"*(4-len(str(i))) + str(i)\n",
    "ids = [pad4(i) for i in range(0,len(eval_set))]\n",
    "\n",
    "# Iterate the validation set by batches.\n",
    "for i in tqdm(range(len(eval_set))):\n",
    "    imgs = []\n",
    "    for _ in range(ensemble_num):\n",
    "        imgs.append(eval_set[i][0])\n",
    "    imgs = torch.stack(imgs)\n",
    "    with torch.no_grad():\n",
    "        logits = student_model_best(imgs.to(device))\n",
    "        pred = logits.sum(0).argmax(-1).item()\n",
    "    eval_preds.append(pred)\n",
    "df = pd.DataFrame({'Id': ids, 'Category': eval_preds})\n",
    "df.to_csv(f\"{save_path}/submission_aug.csv\", index=False) # now you can download the submission.csv and upload it to the kaggle competition.\n",
    "\n",
    "\n",
    "\n",
    "# # Start evaluate\n",
    "# student_model_best.eval()\n",
    "# eval_preds = [] # storing predictions of the evaluation dataset\n",
    "\n",
    "# # Iterate the validation set by batches.\n",
    "# for batch in tqdm(eval_loader):\n",
    "#     # A batch consists of image data and corresponding labels.\n",
    "#     imgs, _ = batch\n",
    "#     # We don't need gradient in evaluation.\n",
    "#     # Using torch.no_grad() accelerates the forward process.\n",
    "#     with torch.no_grad():\n",
    "#         logits = student_model_best(imgs.to(device))\n",
    "#         preds = list(logits.argmax(dim=-1).squeeze().cpu().numpy())\n",
    "#     # loss and acc can not be calculated because we do not have the true labels of the evaluation set.\n",
    "#     eval_preds += preds\n",
    "\n",
    "# def pad4(i):\n",
    "#     return \"0\"*(4-len(str(i))) + str(i)\n",
    "\n",
    "# # Save prediction results\n",
    "# ids = [pad4(i) for i in range(0,len(eval_set))]\n",
    "# categories = eval_preds\n",
    "\n",
    "# df = pd.DataFrame()\n",
    "# df['Id'] = ids\n",
    "# df['Category'] = categories\n",
    "# df.to_csv(f\"{save_path}/submission.csv\", index=False) # now you can download the submission.csv and upload it to the kaggle competition."
   ]
  },
  {
   "cell_type": "markdown",
   "id": "1b0f9213",
   "metadata": {
    "id": "998GNALevLAe",
    "papermill": {
     "duration": 0.010402,
     "end_time": "2023-06-23T04:43:17.926791",
     "exception": false,
     "start_time": "2023-06-23T04:43:17.916389",
     "status": "completed"
    },
    "tags": []
   },
   "source": [
    "> Don't forget to answer the report questions on GradeScope! "
   ]
  }
 ],
 "metadata": {
  "kernelspec": {
   "display_name": "Python 3",
   "language": "python",
   "name": "python3"
  },
  "language_info": {
   "codemirror_mode": {
    "name": "ipython",
    "version": 3
   },
   "file_extension": ".py",
   "mimetype": "text/x-python",
   "name": "python",
   "nbconvert_exporter": "python",
   "pygments_lexer": "ipython3",
   "version": "3.10.10"
  },
  "papermill": {
   "default_parameters": {},
   "duration": 740.382231,
   "end_time": "2023-06-23T04:43:20.412250",
   "environment_variables": {},
   "exception": null,
   "input_path": "__notebook__.ipynb",
   "output_path": "__notebook__.ipynb",
   "parameters": {},
   "start_time": "2023-06-23T04:31:00.030019",
   "version": "2.4.0"
  },
  "widgets": {
   "application/vnd.jupyter.widget-state+json": {
    "state": {
     "06c111a744104199aff11902081538ab": {
      "model_module": "@jupyter-widgets/controls",
      "model_module_version": "1.5.0",
      "model_name": "HTMLModel",
      "state": {
       "_dom_classes": [],
       "_model_module": "@jupyter-widgets/controls",
       "_model_module_version": "1.5.0",
       "_model_name": "HTMLModel",
       "_view_count": null,
       "_view_module": "@jupyter-widgets/controls",
       "_view_module_version": "1.5.0",
       "_view_name": "HTMLView",
       "description": "",
       "description_tooltip": null,
       "layout": "IPY_MODEL_869f3729936e436cba0253561b9d4c8d",
       "placeholder": "​",
       "style": "IPY_MODEL_83e9ce2af06f4c2e9fb6828cec98f940",
       "value": "100%"
      }
     },
     "0d6392bcd2764eb0910fa218a1701a52": {
      "model_module": "@jupyter-widgets/base",
      "model_module_version": "1.2.0",
      "model_name": "LayoutModel",
      "state": {
       "_model_module": "@jupyter-widgets/base",
       "_model_module_version": "1.2.0",
       "_model_name": "LayoutModel",
       "_view_count": null,
       "_view_module": "@jupyter-widgets/base",
       "_view_module_version": "1.2.0",
       "_view_name": "LayoutView",
       "align_content": null,
       "align_items": null,
       "align_self": null,
       "border": null,
       "bottom": null,
       "display": null,
       "flex": null,
       "flex_flow": null,
       "grid_area": null,
       "grid_auto_columns": null,
       "grid_auto_flow": null,
       "grid_auto_rows": null,
       "grid_column": null,
       "grid_gap": null,
       "grid_row": null,
       "grid_template_areas": null,
       "grid_template_columns": null,
       "grid_template_rows": null,
       "height": null,
       "justify_content": null,
       "justify_items": null,
       "left": null,
       "margin": null,
       "max_height": null,
       "max_width": null,
       "min_height": null,
       "min_width": null,
       "object_fit": null,
       "object_position": null,
       "order": null,
       "overflow": null,
       "overflow_x": null,
       "overflow_y": null,
       "padding": null,
       "right": null,
       "top": null,
       "visibility": null,
       "width": null
      }
     },
     "155fe82157fe436189a8e1a1deb19877": {
      "model_module": "@jupyter-widgets/base",
      "model_module_version": "1.2.0",
      "model_name": "LayoutModel",
      "state": {
       "_model_module": "@jupyter-widgets/base",
       "_model_module_version": "1.2.0",
       "_model_name": "LayoutModel",
       "_view_count": null,
       "_view_module": "@jupyter-widgets/base",
       "_view_module_version": "1.2.0",
       "_view_name": "LayoutView",
       "align_content": null,
       "align_items": null,
       "align_self": null,
       "border": null,
       "bottom": null,
       "display": null,
       "flex": null,
       "flex_flow": null,
       "grid_area": null,
       "grid_auto_columns": null,
       "grid_auto_flow": null,
       "grid_auto_rows": null,
       "grid_column": null,
       "grid_gap": null,
       "grid_row": null,
       "grid_template_areas": null,
       "grid_template_columns": null,
       "grid_template_rows": null,
       "height": null,
       "justify_content": null,
       "justify_items": null,
       "left": null,
       "margin": null,
       "max_height": null,
       "max_width": null,
       "min_height": null,
       "min_width": null,
       "object_fit": null,
       "object_position": null,
       "order": null,
       "overflow": null,
       "overflow_x": null,
       "overflow_y": null,
       "padding": null,
       "right": null,
       "top": null,
       "visibility": null,
       "width": null
      }
     },
     "19a8a0853cc44218a7ff75f41f5a6d00": {
      "model_module": "@jupyter-widgets/controls",
      "model_module_version": "1.5.0",
      "model_name": "HBoxModel",
      "state": {
       "_dom_classes": [],
       "_model_module": "@jupyter-widgets/controls",
       "_model_module_version": "1.5.0",
       "_model_name": "HBoxModel",
       "_view_count": null,
       "_view_module": "@jupyter-widgets/controls",
       "_view_module_version": "1.5.0",
       "_view_name": "HBoxView",
       "box_style": "",
       "children": [
        "IPY_MODEL_3541f5d9feb34d8486e4ff8be1ceeb62",
        "IPY_MODEL_22ba369682aa482bae2472490ab5a28a",
        "IPY_MODEL_b61084e03561493c813464bb3c77828c"
       ],
       "layout": "IPY_MODEL_913311a9181c420896b10b0fa69fc47e"
      }
     },
     "22ba369682aa482bae2472490ab5a28a": {
      "model_module": "@jupyter-widgets/controls",
      "model_module_version": "1.5.0",
      "model_name": "FloatProgressModel",
      "state": {
       "_dom_classes": [],
       "_model_module": "@jupyter-widgets/controls",
       "_model_module_version": "1.5.0",
       "_model_name": "FloatProgressModel",
       "_view_count": null,
       "_view_module": "@jupyter-widgets/controls",
       "_view_module_version": "1.5.0",
       "_view_name": "ProgressView",
       "bar_style": "success",
       "description": "",
       "description_tooltip": null,
       "layout": "IPY_MODEL_24ddbbf97d9d4401ae092a537a3ac429",
       "max": 79.0,
       "min": 0.0,
       "orientation": "horizontal",
       "style": "IPY_MODEL_36457fd79f7b466fa72ebbabb296a133",
       "value": 79.0
      }
     },
     "24ddbbf97d9d4401ae092a537a3ac429": {
      "model_module": "@jupyter-widgets/base",
      "model_module_version": "1.2.0",
      "model_name": "LayoutModel",
      "state": {
       "_model_module": "@jupyter-widgets/base",
       "_model_module_version": "1.2.0",
       "_model_name": "LayoutModel",
       "_view_count": null,
       "_view_module": "@jupyter-widgets/base",
       "_view_module_version": "1.2.0",
       "_view_name": "LayoutView",
       "align_content": null,
       "align_items": null,
       "align_self": null,
       "border": null,
       "bottom": null,
       "display": null,
       "flex": null,
       "flex_flow": null,
       "grid_area": null,
       "grid_auto_columns": null,
       "grid_auto_flow": null,
       "grid_auto_rows": null,
       "grid_column": null,
       "grid_gap": null,
       "grid_row": null,
       "grid_template_areas": null,
       "grid_template_columns": null,
       "grid_template_rows": null,
       "height": null,
       "justify_content": null,
       "justify_items": null,
       "left": null,
       "margin": null,
       "max_height": null,
       "max_width": null,
       "min_height": null,
       "min_width": null,
       "object_fit": null,
       "object_position": null,
       "order": null,
       "overflow": null,
       "overflow_x": null,
       "overflow_y": null,
       "padding": null,
       "right": null,
       "top": null,
       "visibility": null,
       "width": null
      }
     },
     "2725d8828ac34ef4b678f3030be037ea": {
      "model_module": "@jupyter-widgets/base",
      "model_module_version": "1.2.0",
      "model_name": "LayoutModel",
      "state": {
       "_model_module": "@jupyter-widgets/base",
       "_model_module_version": "1.2.0",
       "_model_name": "LayoutModel",
       "_view_count": null,
       "_view_module": "@jupyter-widgets/base",
       "_view_module_version": "1.2.0",
       "_view_name": "LayoutView",
       "align_content": null,
       "align_items": null,
       "align_self": null,
       "border": null,
       "bottom": null,
       "display": null,
       "flex": null,
       "flex_flow": null,
       "grid_area": null,
       "grid_auto_columns": null,
       "grid_auto_flow": null,
       "grid_auto_rows": null,
       "grid_column": null,
       "grid_gap": null,
       "grid_row": null,
       "grid_template_areas": null,
       "grid_template_columns": null,
       "grid_template_rows": null,
       "height": null,
       "justify_content": null,
       "justify_items": null,
       "left": null,
       "margin": null,
       "max_height": null,
       "max_width": null,
       "min_height": null,
       "min_width": null,
       "object_fit": null,
       "object_position": null,
       "order": null,
       "overflow": null,
       "overflow_x": null,
       "overflow_y": null,
       "padding": null,
       "right": null,
       "top": null,
       "visibility": null,
       "width": null
      }
     },
     "3541f5d9feb34d8486e4ff8be1ceeb62": {
      "model_module": "@jupyter-widgets/controls",
      "model_module_version": "1.5.0",
      "model_name": "HTMLModel",
      "state": {
       "_dom_classes": [],
       "_model_module": "@jupyter-widgets/controls",
       "_model_module_version": "1.5.0",
       "_model_name": "HTMLModel",
       "_view_count": null,
       "_view_module": "@jupyter-widgets/controls",
       "_view_module_version": "1.5.0",
       "_view_name": "HTMLView",
       "description": "",
       "description_tooltip": null,
       "layout": "IPY_MODEL_e4cd0f415a8947f2bdfa1776321b8cec",
       "placeholder": "​",
       "style": "IPY_MODEL_b014df09471b4e6995d2bebf69f7df55",
       "value": "100%"
      }
     },
     "36457fd79f7b466fa72ebbabb296a133": {
      "model_module": "@jupyter-widgets/controls",
      "model_module_version": "1.5.0",
      "model_name": "ProgressStyleModel",
      "state": {
       "_model_module": "@jupyter-widgets/controls",
       "_model_module_version": "1.5.0",
       "_model_name": "ProgressStyleModel",
       "_view_count": null,
       "_view_module": "@jupyter-widgets/base",
       "_view_module_version": "1.2.0",
       "_view_name": "StyleView",
       "bar_color": null,
       "description_width": ""
      }
     },
     "3f1d6feb2e7f460193bad09a7eefbd43": {
      "model_module": "@jupyter-widgets/controls",
      "model_module_version": "1.5.0",
      "model_name": "FloatProgressModel",
      "state": {
       "_dom_classes": [],
       "_model_module": "@jupyter-widgets/controls",
       "_model_module_version": "1.5.0",
       "_model_name": "FloatProgressModel",
       "_view_count": null,
       "_view_module": "@jupyter-widgets/controls",
       "_view_module_version": "1.5.0",
       "_view_name": "ProgressView",
       "bar_style": "success",
       "description": "",
       "description_tooltip": null,
       "layout": "IPY_MODEL_5c168de710214ad984639a0f12ad2330",
       "max": 2218.0,
       "min": 0.0,
       "orientation": "horizontal",
       "style": "IPY_MODEL_73846019291440868d6ade8e401dda5a",
       "value": 2218.0
      }
     },
     "4056f1ad4f7341cb9e1078326cb4a077": {
      "model_module": "@jupyter-widgets/controls",
      "model_module_version": "1.5.0",
      "model_name": "FloatProgressModel",
      "state": {
       "_dom_classes": [],
       "_model_module": "@jupyter-widgets/controls",
       "_model_module_version": "1.5.0",
       "_model_name": "FloatProgressModel",
       "_view_count": null,
       "_view_module": "@jupyter-widgets/controls",
       "_view_module_version": "1.5.0",
       "_view_name": "ProgressView",
       "bar_style": "success",
       "description": "",
       "description_tooltip": null,
       "layout": "IPY_MODEL_88d7687c4c724446a554a1a3f4f44634",
       "max": 35.0,
       "min": 0.0,
       "orientation": "horizontal",
       "style": "IPY_MODEL_62fb41de95d9464fb96f7aebd55c90f6",
       "value": 35.0
      }
     },
     "48d3e4883e124835b3c4c452b674a287": {
      "model_module": "@jupyter-widgets/controls",
      "model_module_version": "1.5.0",
      "model_name": "HBoxModel",
      "state": {
       "_dom_classes": [],
       "_model_module": "@jupyter-widgets/controls",
       "_model_module_version": "1.5.0",
       "_model_name": "HBoxModel",
       "_view_count": null,
       "_view_module": "@jupyter-widgets/controls",
       "_view_module_version": "1.5.0",
       "_view_name": "HBoxView",
       "box_style": "",
       "children": [
        "IPY_MODEL_fed8a2dd3f3c401d844fc664ef602426",
        "IPY_MODEL_3f1d6feb2e7f460193bad09a7eefbd43",
        "IPY_MODEL_f3360fafe8bf40758afc518fbf3f870e"
       ],
       "layout": "IPY_MODEL_0d6392bcd2764eb0910fa218a1701a52"
      }
     },
     "4ac99f5810c4434a828d569ef90292cb": {
      "model_module": "@jupyter-widgets/base",
      "model_module_version": "1.2.0",
      "model_name": "LayoutModel",
      "state": {
       "_model_module": "@jupyter-widgets/base",
       "_model_module_version": "1.2.0",
       "_model_name": "LayoutModel",
       "_view_count": null,
       "_view_module": "@jupyter-widgets/base",
       "_view_module_version": "1.2.0",
       "_view_name": "LayoutView",
       "align_content": null,
       "align_items": null,
       "align_self": null,
       "border": null,
       "bottom": null,
       "display": null,
       "flex": null,
       "flex_flow": null,
       "grid_area": null,
       "grid_auto_columns": null,
       "grid_auto_flow": null,
       "grid_auto_rows": null,
       "grid_column": null,
       "grid_gap": null,
       "grid_row": null,
       "grid_template_areas": null,
       "grid_template_columns": null,
       "grid_template_rows": null,
       "height": null,
       "justify_content": null,
       "justify_items": null,
       "left": null,
       "margin": null,
       "max_height": null,
       "max_width": null,
       "min_height": null,
       "min_width": null,
       "object_fit": null,
       "object_position": null,
       "order": null,
       "overflow": null,
       "overflow_x": null,
       "overflow_y": null,
       "padding": null,
       "right": null,
       "top": null,
       "visibility": null,
       "width": null
      }
     },
     "5c168de710214ad984639a0f12ad2330": {
      "model_module": "@jupyter-widgets/base",
      "model_module_version": "1.2.0",
      "model_name": "LayoutModel",
      "state": {
       "_model_module": "@jupyter-widgets/base",
       "_model_module_version": "1.2.0",
       "_model_name": "LayoutModel",
       "_view_count": null,
       "_view_module": "@jupyter-widgets/base",
       "_view_module_version": "1.2.0",
       "_view_name": "LayoutView",
       "align_content": null,
       "align_items": null,
       "align_self": null,
       "border": null,
       "bottom": null,
       "display": null,
       "flex": null,
       "flex_flow": null,
       "grid_area": null,
       "grid_auto_columns": null,
       "grid_auto_flow": null,
       "grid_auto_rows": null,
       "grid_column": null,
       "grid_gap": null,
       "grid_row": null,
       "grid_template_areas": null,
       "grid_template_columns": null,
       "grid_template_rows": null,
       "height": null,
       "justify_content": null,
       "justify_items": null,
       "left": null,
       "margin": null,
       "max_height": null,
       "max_width": null,
       "min_height": null,
       "min_width": null,
       "object_fit": null,
       "object_position": null,
       "order": null,
       "overflow": null,
       "overflow_x": null,
       "overflow_y": null,
       "padding": null,
       "right": null,
       "top": null,
       "visibility": null,
       "width": null
      }
     },
     "62fb41de95d9464fb96f7aebd55c90f6": {
      "model_module": "@jupyter-widgets/controls",
      "model_module_version": "1.5.0",
      "model_name": "ProgressStyleModel",
      "state": {
       "_model_module": "@jupyter-widgets/controls",
       "_model_module_version": "1.5.0",
       "_model_name": "ProgressStyleModel",
       "_view_count": null,
       "_view_module": "@jupyter-widgets/base",
       "_view_module_version": "1.2.0",
       "_view_name": "StyleView",
       "bar_color": null,
       "description_width": ""
      }
     },
     "6368a50afed94c8abf0333f2668cd3b9": {
      "model_module": "@jupyter-widgets/controls",
      "model_module_version": "1.5.0",
      "model_name": "DescriptionStyleModel",
      "state": {
       "_model_module": "@jupyter-widgets/controls",
       "_model_module_version": "1.5.0",
       "_model_name": "DescriptionStyleModel",
       "_view_count": null,
       "_view_module": "@jupyter-widgets/base",
       "_view_module_version": "1.2.0",
       "_view_name": "StyleView",
       "description_width": ""
      }
     },
     "73846019291440868d6ade8e401dda5a": {
      "model_module": "@jupyter-widgets/controls",
      "model_module_version": "1.5.0",
      "model_name": "ProgressStyleModel",
      "state": {
       "_model_module": "@jupyter-widgets/controls",
       "_model_module_version": "1.5.0",
       "_model_name": "ProgressStyleModel",
       "_view_count": null,
       "_view_module": "@jupyter-widgets/base",
       "_view_module_version": "1.2.0",
       "_view_name": "StyleView",
       "bar_color": null,
       "description_width": ""
      }
     },
     "78bf139346b1471eb09aba9e4a73391a": {
      "model_module": "@jupyter-widgets/controls",
      "model_module_version": "1.5.0",
      "model_name": "HBoxModel",
      "state": {
       "_dom_classes": [],
       "_model_module": "@jupyter-widgets/controls",
       "_model_module_version": "1.5.0",
       "_model_name": "HBoxModel",
       "_view_count": null,
       "_view_module": "@jupyter-widgets/controls",
       "_view_module_version": "1.5.0",
       "_view_name": "HBoxView",
       "box_style": "",
       "children": [
        "IPY_MODEL_06c111a744104199aff11902081538ab",
        "IPY_MODEL_4056f1ad4f7341cb9e1078326cb4a077",
        "IPY_MODEL_9ef38b71058c4cb28e591d9b256d7522"
       ],
       "layout": "IPY_MODEL_2725d8828ac34ef4b678f3030be037ea"
      }
     },
     "7bb5ddfc06424aa39c08ba6939375c90": {
      "model_module": "@jupyter-widgets/controls",
      "model_module_version": "1.5.0",
      "model_name": "DescriptionStyleModel",
      "state": {
       "_model_module": "@jupyter-widgets/controls",
       "_model_module_version": "1.5.0",
       "_model_name": "DescriptionStyleModel",
       "_view_count": null,
       "_view_module": "@jupyter-widgets/base",
       "_view_module_version": "1.2.0",
       "_view_name": "StyleView",
       "description_width": ""
      }
     },
     "83e9ce2af06f4c2e9fb6828cec98f940": {
      "model_module": "@jupyter-widgets/controls",
      "model_module_version": "1.5.0",
      "model_name": "DescriptionStyleModel",
      "state": {
       "_model_module": "@jupyter-widgets/controls",
       "_model_module_version": "1.5.0",
       "_model_name": "DescriptionStyleModel",
       "_view_count": null,
       "_view_module": "@jupyter-widgets/base",
       "_view_module_version": "1.2.0",
       "_view_name": "StyleView",
       "description_width": ""
      }
     },
     "869f3729936e436cba0253561b9d4c8d": {
      "model_module": "@jupyter-widgets/base",
      "model_module_version": "1.2.0",
      "model_name": "LayoutModel",
      "state": {
       "_model_module": "@jupyter-widgets/base",
       "_model_module_version": "1.2.0",
       "_model_name": "LayoutModel",
       "_view_count": null,
       "_view_module": "@jupyter-widgets/base",
       "_view_module_version": "1.2.0",
       "_view_name": "LayoutView",
       "align_content": null,
       "align_items": null,
       "align_self": null,
       "border": null,
       "bottom": null,
       "display": null,
       "flex": null,
       "flex_flow": null,
       "grid_area": null,
       "grid_auto_columns": null,
       "grid_auto_flow": null,
       "grid_auto_rows": null,
       "grid_column": null,
       "grid_gap": null,
       "grid_row": null,
       "grid_template_areas": null,
       "grid_template_columns": null,
       "grid_template_rows": null,
       "height": null,
       "justify_content": null,
       "justify_items": null,
       "left": null,
       "margin": null,
       "max_height": null,
       "max_width": null,
       "min_height": null,
       "min_width": null,
       "object_fit": null,
       "object_position": null,
       "order": null,
       "overflow": null,
       "overflow_x": null,
       "overflow_y": null,
       "padding": null,
       "right": null,
       "top": null,
       "visibility": null,
       "width": null
      }
     },
     "88d7687c4c724446a554a1a3f4f44634": {
      "model_module": "@jupyter-widgets/base",
      "model_module_version": "1.2.0",
      "model_name": "LayoutModel",
      "state": {
       "_model_module": "@jupyter-widgets/base",
       "_model_module_version": "1.2.0",
       "_model_name": "LayoutModel",
       "_view_count": null,
       "_view_module": "@jupyter-widgets/base",
       "_view_module_version": "1.2.0",
       "_view_name": "LayoutView",
       "align_content": null,
       "align_items": null,
       "align_self": null,
       "border": null,
       "bottom": null,
       "display": null,
       "flex": null,
       "flex_flow": null,
       "grid_area": null,
       "grid_auto_columns": null,
       "grid_auto_flow": null,
       "grid_auto_rows": null,
       "grid_column": null,
       "grid_gap": null,
       "grid_row": null,
       "grid_template_areas": null,
       "grid_template_columns": null,
       "grid_template_rows": null,
       "height": null,
       "justify_content": null,
       "justify_items": null,
       "left": null,
       "margin": null,
       "max_height": null,
       "max_width": null,
       "min_height": null,
       "min_width": null,
       "object_fit": null,
       "object_position": null,
       "order": null,
       "overflow": null,
       "overflow_x": null,
       "overflow_y": null,
       "padding": null,
       "right": null,
       "top": null,
       "visibility": null,
       "width": null
      }
     },
     "900c3315fa0d49eb80be45fe8edd8d49": {
      "model_module": "@jupyter-widgets/base",
      "model_module_version": "1.2.0",
      "model_name": "LayoutModel",
      "state": {
       "_model_module": "@jupyter-widgets/base",
       "_model_module_version": "1.2.0",
       "_model_name": "LayoutModel",
       "_view_count": null,
       "_view_module": "@jupyter-widgets/base",
       "_view_module_version": "1.2.0",
       "_view_name": "LayoutView",
       "align_content": null,
       "align_items": null,
       "align_self": null,
       "border": null,
       "bottom": null,
       "display": null,
       "flex": null,
       "flex_flow": null,
       "grid_area": null,
       "grid_auto_columns": null,
       "grid_auto_flow": null,
       "grid_auto_rows": null,
       "grid_column": null,
       "grid_gap": null,
       "grid_row": null,
       "grid_template_areas": null,
       "grid_template_columns": null,
       "grid_template_rows": null,
       "height": null,
       "justify_content": null,
       "justify_items": null,
       "left": null,
       "margin": null,
       "max_height": null,
       "max_width": null,
       "min_height": null,
       "min_width": null,
       "object_fit": null,
       "object_position": null,
       "order": null,
       "overflow": null,
       "overflow_x": null,
       "overflow_y": null,
       "padding": null,
       "right": null,
       "top": null,
       "visibility": null,
       "width": null
      }
     },
     "913311a9181c420896b10b0fa69fc47e": {
      "model_module": "@jupyter-widgets/base",
      "model_module_version": "1.2.0",
      "model_name": "LayoutModel",
      "state": {
       "_model_module": "@jupyter-widgets/base",
       "_model_module_version": "1.2.0",
       "_model_name": "LayoutModel",
       "_view_count": null,
       "_view_module": "@jupyter-widgets/base",
       "_view_module_version": "1.2.0",
       "_view_name": "LayoutView",
       "align_content": null,
       "align_items": null,
       "align_self": null,
       "border": null,
       "bottom": null,
       "display": null,
       "flex": null,
       "flex_flow": null,
       "grid_area": null,
       "grid_auto_columns": null,
       "grid_auto_flow": null,
       "grid_auto_rows": null,
       "grid_column": null,
       "grid_gap": null,
       "grid_row": null,
       "grid_template_areas": null,
       "grid_template_columns": null,
       "grid_template_rows": null,
       "height": null,
       "justify_content": null,
       "justify_items": null,
       "left": null,
       "margin": null,
       "max_height": null,
       "max_width": null,
       "min_height": null,
       "min_width": null,
       "object_fit": null,
       "object_position": null,
       "order": null,
       "overflow": null,
       "overflow_x": null,
       "overflow_y": null,
       "padding": null,
       "right": null,
       "top": null,
       "visibility": null,
       "width": null
      }
     },
     "9ef38b71058c4cb28e591d9b256d7522": {
      "model_module": "@jupyter-widgets/controls",
      "model_module_version": "1.5.0",
      "model_name": "HTMLModel",
      "state": {
       "_dom_classes": [],
       "_model_module": "@jupyter-widgets/controls",
       "_model_module_version": "1.5.0",
       "_model_name": "HTMLModel",
       "_view_count": null,
       "_view_module": "@jupyter-widgets/controls",
       "_view_module_version": "1.5.0",
       "_view_name": "HTMLView",
       "description": "",
       "description_tooltip": null,
       "layout": "IPY_MODEL_b48014c75de541d8b34a682e85997398",
       "placeholder": "​",
       "style": "IPY_MODEL_f85394beb4504bc982105f4d45c0e3b0",
       "value": " 35/35 [00:51&lt;00:00,  1.10s/it]"
      }
     },
     "b014df09471b4e6995d2bebf69f7df55": {
      "model_module": "@jupyter-widgets/controls",
      "model_module_version": "1.5.0",
      "model_name": "DescriptionStyleModel",
      "state": {
       "_model_module": "@jupyter-widgets/controls",
       "_model_module_version": "1.5.0",
       "_model_name": "DescriptionStyleModel",
       "_view_count": null,
       "_view_module": "@jupyter-widgets/base",
       "_view_module_version": "1.2.0",
       "_view_name": "StyleView",
       "description_width": ""
      }
     },
     "b48014c75de541d8b34a682e85997398": {
      "model_module": "@jupyter-widgets/base",
      "model_module_version": "1.2.0",
      "model_name": "LayoutModel",
      "state": {
       "_model_module": "@jupyter-widgets/base",
       "_model_module_version": "1.2.0",
       "_model_name": "LayoutModel",
       "_view_count": null,
       "_view_module": "@jupyter-widgets/base",
       "_view_module_version": "1.2.0",
       "_view_name": "LayoutView",
       "align_content": null,
       "align_items": null,
       "align_self": null,
       "border": null,
       "bottom": null,
       "display": null,
       "flex": null,
       "flex_flow": null,
       "grid_area": null,
       "grid_auto_columns": null,
       "grid_auto_flow": null,
       "grid_auto_rows": null,
       "grid_column": null,
       "grid_gap": null,
       "grid_row": null,
       "grid_template_areas": null,
       "grid_template_columns": null,
       "grid_template_rows": null,
       "height": null,
       "justify_content": null,
       "justify_items": null,
       "left": null,
       "margin": null,
       "max_height": null,
       "max_width": null,
       "min_height": null,
       "min_width": null,
       "object_fit": null,
       "object_position": null,
       "order": null,
       "overflow": null,
       "overflow_x": null,
       "overflow_y": null,
       "padding": null,
       "right": null,
       "top": null,
       "visibility": null,
       "width": null
      }
     },
     "b61084e03561493c813464bb3c77828c": {
      "model_module": "@jupyter-widgets/controls",
      "model_module_version": "1.5.0",
      "model_name": "HTMLModel",
      "state": {
       "_dom_classes": [],
       "_model_module": "@jupyter-widgets/controls",
       "_model_module_version": "1.5.0",
       "_model_name": "HTMLModel",
       "_view_count": null,
       "_view_module": "@jupyter-widgets/controls",
       "_view_module_version": "1.5.0",
       "_view_name": "HTMLView",
       "description": "",
       "description_tooltip": null,
       "layout": "IPY_MODEL_4ac99f5810c4434a828d569ef90292cb",
       "placeholder": "​",
       "style": "IPY_MODEL_7bb5ddfc06424aa39c08ba6939375c90",
       "value": " 79/79 [02:22&lt;00:00,  1.30s/it]"
      }
     },
     "c2894aec2dad4a59b02bfa84fd281001": {
      "model_module": "@jupyter-widgets/controls",
      "model_module_version": "1.5.0",
      "model_name": "DescriptionStyleModel",
      "state": {
       "_model_module": "@jupyter-widgets/controls",
       "_model_module_version": "1.5.0",
       "_model_name": "DescriptionStyleModel",
       "_view_count": null,
       "_view_module": "@jupyter-widgets/base",
       "_view_module_version": "1.2.0",
       "_view_name": "StyleView",
       "description_width": ""
      }
     },
     "e4cd0f415a8947f2bdfa1776321b8cec": {
      "model_module": "@jupyter-widgets/base",
      "model_module_version": "1.2.0",
      "model_name": "LayoutModel",
      "state": {
       "_model_module": "@jupyter-widgets/base",
       "_model_module_version": "1.2.0",
       "_model_name": "LayoutModel",
       "_view_count": null,
       "_view_module": "@jupyter-widgets/base",
       "_view_module_version": "1.2.0",
       "_view_name": "LayoutView",
       "align_content": null,
       "align_items": null,
       "align_self": null,
       "border": null,
       "bottom": null,
       "display": null,
       "flex": null,
       "flex_flow": null,
       "grid_area": null,
       "grid_auto_columns": null,
       "grid_auto_flow": null,
       "grid_auto_rows": null,
       "grid_column": null,
       "grid_gap": null,
       "grid_row": null,
       "grid_template_areas": null,
       "grid_template_columns": null,
       "grid_template_rows": null,
       "height": null,
       "justify_content": null,
       "justify_items": null,
       "left": null,
       "margin": null,
       "max_height": null,
       "max_width": null,
       "min_height": null,
       "min_width": null,
       "object_fit": null,
       "object_position": null,
       "order": null,
       "overflow": null,
       "overflow_x": null,
       "overflow_y": null,
       "padding": null,
       "right": null,
       "top": null,
       "visibility": null,
       "width": null
      }
     },
     "f3360fafe8bf40758afc518fbf3f870e": {
      "model_module": "@jupyter-widgets/controls",
      "model_module_version": "1.5.0",
      "model_name": "HTMLModel",
      "state": {
       "_dom_classes": [],
       "_model_module": "@jupyter-widgets/controls",
       "_model_module_version": "1.5.0",
       "_model_name": "HTMLModel",
       "_view_count": null,
       "_view_module": "@jupyter-widgets/controls",
       "_view_module_version": "1.5.0",
       "_view_name": "HTMLView",
       "description": "",
       "description_tooltip": null,
       "layout": "IPY_MODEL_900c3315fa0d49eb80be45fe8edd8d49",
       "placeholder": "​",
       "style": "IPY_MODEL_c2894aec2dad4a59b02bfa84fd281001",
       "value": " 2218/2218 [08:25&lt;00:00,  5.18it/s]"
      }
     },
     "f85394beb4504bc982105f4d45c0e3b0": {
      "model_module": "@jupyter-widgets/controls",
      "model_module_version": "1.5.0",
      "model_name": "DescriptionStyleModel",
      "state": {
       "_model_module": "@jupyter-widgets/controls",
       "_model_module_version": "1.5.0",
       "_model_name": "DescriptionStyleModel",
       "_view_count": null,
       "_view_module": "@jupyter-widgets/base",
       "_view_module_version": "1.2.0",
       "_view_name": "StyleView",
       "description_width": ""
      }
     },
     "fed8a2dd3f3c401d844fc664ef602426": {
      "model_module": "@jupyter-widgets/controls",
      "model_module_version": "1.5.0",
      "model_name": "HTMLModel",
      "state": {
       "_dom_classes": [],
       "_model_module": "@jupyter-widgets/controls",
       "_model_module_version": "1.5.0",
       "_model_name": "HTMLModel",
       "_view_count": null,
       "_view_module": "@jupyter-widgets/controls",
       "_view_module_version": "1.5.0",
       "_view_name": "HTMLView",
       "description": "",
       "description_tooltip": null,
       "layout": "IPY_MODEL_155fe82157fe436189a8e1a1deb19877",
       "placeholder": "​",
       "style": "IPY_MODEL_6368a50afed94c8abf0333f2668cd3b9",
       "value": "100%"
      }
     }
    },
    "version_major": 2,
    "version_minor": 0
   }
  }
 },
 "nbformat": 4,
 "nbformat_minor": 5
}
