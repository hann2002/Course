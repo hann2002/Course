{
 "cells": [
  {
   "cell_type": "code",
   "execution_count": 1,
   "id": "b20cb63e",
   "metadata": {
    "_cell_guid": "b1076dfc-b9ad-4769-8c92-a6c4dae69d19",
    "_uuid": "8f2839f25d086af736a60e9eeb907d3b93b6e0e5",
    "execution": {
     "iopub.execute_input": "2023-11-30T02:00:53.315822Z",
     "iopub.status.busy": "2023-11-30T02:00:53.314458Z",
     "iopub.status.idle": "2023-11-30T02:00:56.908204Z",
     "shell.execute_reply": "2023-11-30T02:00:56.906979Z"
    },
    "papermill": {
     "duration": 3.600433,
     "end_time": "2023-11-30T02:00:56.911058",
     "exception": false,
     "start_time": "2023-11-30T02:00:53.310625",
     "status": "completed"
    },
    "tags": []
   },
   "outputs": [],
   "source": [
    "import json\n",
    "import random\n",
    "import argparse\n",
    "\n",
    "with open(\"/kaggle/input/hw3-data/data/train.json\", \"r\", encoding=\"utf-8\") as file:\n",
    "    data = json.load(file)\n",
    "\n",
    "classical_data = [item for item in data if (\"文言文翻譯\" in item[\"instruction\"] or \"翻譯成文言文\" in item[\"instruction\"] or \"這句話在古代怎麼說\" in item[\"instruction\"] or \"翻譯成古文\" in item[\"instruction\"])][:2000]\n",
    "\n",
    "modern_data = [item for item in data if ((\"翻譯成現代文\" in item[\"instruction\"]) or (\"翻譯成白話文\" in item[\"instruction\"])) ][:2000]\n",
    "\n",
    "selected_data = classical_data + modern_data\n",
    "\n",
    "random.shuffle(selected_data)\n",
    "\n",
    "with open(\"train.json\", \"w\", encoding=\"utf-8\") as file:\n",
    "    json.dump(selected_data, file, ensure_ascii=False, indent=2)\n",
    "\n",
    "remaining_data = [item for item in data if item not in selected_data]\n",
    "\n",
    "classical_data = [item for item in data if ((\"翻譯成文言文\" in item[\"instruction\"]) or (\"這句話在古代怎麼說\" in item[\"instruction\"]) or (\"翻譯成古文\" in item[\"instruction\"]))][:100]\n",
    "\n",
    "modern_data = [item for item in data if (\"翻譯成現代文\" in item[\"instruction\"]) or (\"翻譯成白話文\" in item[\"instruction\"]) ][:100]\n",
    "\n",
    "valid_data = classical_data + modern_data\n",
    "\n",
    "random.shuffle(valid_data)\n",
    "\n",
    "with open(\"valid.json\", \"w\", encoding=\"utf-8\") as file:\n",
    "    json.dump(valid_data, file, ensure_ascii=False, indent=2)\n"
   ]
  }
 ],
 "metadata": {
  "kaggle": {
   "accelerator": "none",
   "dataSources": [
    {
     "datasetId": 4062510,
     "sourceId": 7057511,
     "sourceType": "datasetVersion"
    }
   ],
   "dockerImageVersionId": 30588,
   "isGpuEnabled": false,
   "isInternetEnabled": true,
   "language": "python",
   "sourceType": "notebook"
  },
  "kernelspec": {
   "display_name": "Python 3",
   "language": "python",
   "name": "python3"
  },
  "language_info": {
   "codemirror_mode": {
    "name": "ipython",
    "version": 3
   },
   "file_extension": ".py",
   "mimetype": "text/x-python",
   "name": "python",
   "nbconvert_exporter": "python",
   "pygments_lexer": "ipython3",
   "version": "3.10.12"
  },
  "papermill": {
   "default_parameters": {},
   "duration": 7.13304,
   "end_time": "2023-11-30T02:00:57.335177",
   "environment_variables": {},
   "exception": null,
   "input_path": "__notebook__.ipynb",
   "output_path": "__notebook__.ipynb",
   "parameters": {},
   "start_time": "2023-11-30T02:00:50.202137",
   "version": "2.4.0"
  }
 },
 "nbformat": 4,
 "nbformat_minor": 5
}
